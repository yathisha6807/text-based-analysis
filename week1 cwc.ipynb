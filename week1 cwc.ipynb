{
 "cells": [
  {
   "cell_type": "markdown",
   "id": "d54f53ee",
   "metadata": {},
   "source": [
    "# Basic String Operation"
   ]
  },
  {
   "cell_type": "code",
   "execution_count": 1,
   "id": "9c286af8",
   "metadata": {},
   "outputs": [
    {
     "name": "stdout",
     "output_type": "stream",
     "text": [
      "Hello\n"
     ]
    }
   ],
   "source": [
    "# Assigning the string \"Hello\" to the variable a\n",
    "a = \"Hello\"\n",
    "\n",
    "# Printing the value of the variable a\n",
    "print(a)"
   ]
  },
  {
   "cell_type": "markdown",
   "id": "42d2d1f3",
   "metadata": {},
   "source": [
    "# Accessing Individual letters"
   ]
  },
  {
   "cell_type": "code",
   "execution_count": 2,
   "id": "3dbdff95",
   "metadata": {},
   "outputs": [
    {
     "name": "stdout",
     "output_type": "stream",
     "text": [
      "e\n"
     ]
    }
   ],
   "source": [
    "# Assigning the string \"Hello, World!\" to the variable a\n",
    "a = \"Hello, World!\"\n",
    "\n",
    "# Printing the character at index 1 of the string stored in variable a\n",
    "print(a[1])"
   ]
  },
  {
   "cell_type": "code",
   "execution_count": 4,
   "id": "8e2a7af1",
   "metadata": {},
   "outputs": [
    {
     "name": "stdout",
     "output_type": "stream",
     "text": [
      "thi\n"
     ]
    }
   ],
   "source": [
    "# Assigning the string \"Yathisha, Vinnie!\" to the variable b\n",
    "b = \"Yathisha, Vinnie!\"\n",
    "\n",
    "# Printing the substring from index 2 (inclusive) to index 5 (exclusive) of the string stored in variable b\n",
    "print(b[2:5])"
   ]
  },
  {
   "cell_type": "markdown",
   "id": "7f26253b",
   "metadata": {},
   "source": [
    "# Length String Operation"
   ]
  },
  {
   "cell_type": "code",
   "execution_count": 5,
   "id": "f3eefc56",
   "metadata": {},
   "outputs": [
    {
     "name": "stdout",
     "output_type": "stream",
     "text": [
      "17\n"
     ]
    }
   ],
   "source": [
    "# Assigning the string \"Yathisha, Vinnie!\" to the variable a\n",
    "a = \"Yathisha, Vinnie!\"\n",
    "\n",
    "# Printing the length of the string stored in variable a using the len() function\n",
    "print(len(a))\n"
   ]
  },
  {
   "cell_type": "markdown",
   "id": "e8e78e28",
   "metadata": {},
   "source": [
    "# Upper String Operation"
   ]
  },
  {
   "cell_type": "code",
   "execution_count": 6,
   "id": "0fc8bc37",
   "metadata": {},
   "outputs": [
    {
     "name": "stdout",
     "output_type": "stream",
     "text": [
      "YATHISHA, VINNIE!\n"
     ]
    }
   ],
   "source": [
    "# Calling the upper() method to convert all characters in the string to uppercase\n",
    "# and then printing the modified string\n",
    "print(a.upper())"
   ]
  },
  {
   "cell_type": "markdown",
   "id": "10419f5c",
   "metadata": {},
   "source": [
    "# Lower String Operation"
   ]
  },
  {
   "cell_type": "code",
   "execution_count": 7,
   "id": "481e0888",
   "metadata": {},
   "outputs": [
    {
     "name": "stdout",
     "output_type": "stream",
     "text": [
      "yathisha, vinnie!\n"
     ]
    }
   ],
   "source": [
    "# Calling the lower() method to convert all characters in the string to lowercase\n",
    "# and then printing the modified string\n",
    "print(a.lower())"
   ]
  },
  {
   "cell_type": "markdown",
   "id": "a628acdc",
   "metadata": {},
   "source": [
    "# Replace String Operation"
   ]
  },
  {
   "cell_type": "code",
   "execution_count": 8,
   "id": "08d6e23c",
   "metadata": {},
   "outputs": [
    {
     "name": "stdout",
     "output_type": "stream",
     "text": [
      "Jathisha, Vinnie!\n"
     ]
    }
   ],
   "source": [
    "# Calling the replace() method to replace all occurrences of \"Y\" with \"J\" in the string\n",
    "# and then printing the modified string\n",
    "print(a.replace(\"Y\", \"J\"))"
   ]
  },
  {
   "cell_type": "markdown",
   "id": "d25681a5",
   "metadata": {},
   "source": [
    "# String Concatenation"
   ]
  },
  {
   "cell_type": "code",
   "execution_count": 9,
   "id": "54435adb",
   "metadata": {},
   "outputs": [
    {
     "name": "stdout",
     "output_type": "stream",
     "text": [
      "Yathisha Vinnie\n"
     ]
    }
   ],
   "source": [
    "# Assigning the string \"Yathisha\" to the variable a\n",
    "a = \"Yathisha\"\n",
    "\n",
    "# Assigning the string \"Vinnie\" to the variable b\n",
    "b = \"Vinnie\"\n",
    "\n",
    "# Concatenating the strings stored in variables a and b, along with a space in between,\n",
    "# and assigning the result to the variable c\n",
    "c = a + \" \" + b\n",
    "\n",
    "# Printing the concatenated string stored in variable c\n",
    "print(c)"
   ]
  },
  {
   "cell_type": "markdown",
   "id": "ffce5a21",
   "metadata": {},
   "source": [
    "# Splitting a String"
   ]
  },
  {
   "cell_type": "code",
   "execution_count": 10,
   "id": "ca044a1a",
   "metadata": {},
   "outputs": [
    {
     "name": "stdout",
     "output_type": "stream",
     "text": [
      "['One', 'two', 'three', 'four']\n"
     ]
    }
   ],
   "source": [
    "# Assigning the string 'One two three four' to the variable my_string\n",
    "my_string = 'One two three four'\n",
    "\n",
    "# Using the split() method to split the string into a list of words based on whitespace\n",
    "word_list = my_string.split()\n",
    "\n",
    "# Printing the resulting list of words\n",
    "print(word_list)"
   ]
  },
  {
   "cell_type": "code",
   "execution_count": 11,
   "id": "926d7754",
   "metadata": {},
   "outputs": [
    {
     "name": "stdout",
     "output_type": "stream",
     "text": [
      "['1', '2', '3', '4', '5']\n"
     ]
    }
   ],
   "source": [
    "# Assigning the string '1/2/3/4/5' to the variable my_string\n",
    "my_string = '1/2/3/4/5'\n",
    "\n",
    "# Using the split() method to split the string into a list of numbers based on the '/' delimiter\n",
    "number_list = my_string.split('/')\n",
    "\n",
    "# Printing the resulting list of numbers\n",
    "print(number_list)"
   ]
  },
  {
   "cell_type": "markdown",
   "id": "8e5bb05b",
   "metadata": {},
   "source": [
    "# String Tokens"
   ]
  },
  {
   "cell_type": "code",
   "execution_count": 12,
   "id": "54d082a1",
   "metadata": {},
   "outputs": [
    {
     "name": "stdout",
     "output_type": "stream",
     "text": [
      "['peach', 'raspberry', 'strawberry', 'vanilla']\n"
     ]
    }
   ],
   "source": [
    "# Assigning the string 'peach raspberry strawberry vanilla' to the variable str\n",
    "str = 'peach raspberry strawberry vanilla'\n",
    "\n",
    "# Using the split() method to split the string into a list of tokens (words) based on whitespace\n",
    "tokens = str.split()\n",
    "\n",
    "# Printing the resulting list of tokens\n",
    "print(tokens)"
   ]
  },
  {
   "cell_type": "code",
   "execution_count": 13,
   "id": "d83eda62",
   "metadata": {},
   "outputs": [
    {
     "name": "stdout",
     "output_type": "stream",
     "text": [
      "['www', 'example', 'com']\n"
     ]
    }
   ],
   "source": [
    "# Assigning the string 'www.example.com' to the variable my_address\n",
    "my_address = 'www.example.com'\n",
    "\n",
    "# Using the split() method to split the string into a list of tokens (subdomains and domain) based on the '.' delimiter\n",
    "tokens = my_address.split('.')\n",
    "\n",
    "# Printing the resulting list of tokens\n",
    "print(tokens)\n"
   ]
  },
  {
   "cell_type": "markdown",
   "id": "d2e9b589",
   "metadata": {},
   "source": [
    "# Strip Operations"
   ]
  },
  {
   "cell_type": "code",
   "execution_count": 14,
   "id": "7af6b8b2",
   "metadata": {},
   "outputs": [
    {
     "name": "stdout",
     "output_type": "stream",
     "text": [
      "Hello  w, world\n",
      " Hello  w, world\n"
     ]
    }
   ],
   "source": [
    "# Original string with leading and trailing whitespaces\n",
    "a = \" Hello  w, world  \"\n",
    "\n",
    "# Using strip() to remove leading and trailing whitespaces\n",
    "print(a.strip()) \n",
    "\n",
    "# Using rstrip() to remove trailing whitespaces\n",
    "print(a.rstrip())  "
   ]
  },
  {
   "cell_type": "code",
   "execution_count": 15,
   "id": "ced16504",
   "metadata": {},
   "outputs": [
    {
     "name": "stdout",
     "output_type": "stream",
     "text": [
      "Hello  w, world  \n"
     ]
    }
   ],
   "source": [
    "# Original string with leading and trailing whitespaces\n",
    "a = \" Hello  w, world  \"\n",
    "\n",
    "# Using lstrip() to remove leading whitespaces\n",
    "print(a.lstrip()) "
   ]
  },
  {
   "cell_type": "code",
   "execution_count": 16,
   "id": "b5253cca",
   "metadata": {},
   "outputs": [
    {
     "name": "stdout",
     "output_type": "stream",
     "text": [
      "Hello  w, world--\n"
     ]
    }
   ],
   "source": [
    "# Original string with leading and trailing hyphens\n",
    "a = \"--Hello  w, world--\"\n",
    "\n",
    "# Using lstrip('-') to remove leading hyphens\n",
    "print(a.lstrip('-')) \n"
   ]
  },
  {
   "cell_type": "code",
   "execution_count": 17,
   "id": "72c52530",
   "metadata": {},
   "outputs": [
    {
     "name": "stdout",
     "output_type": "stream",
     "text": [
      "--Hello  w, world\n"
     ]
    }
   ],
   "source": [
    "# Original string with leading and trailing hyphens\n",
    "a = \"--Hello  w, world--\"\n",
    "\n",
    "# Using rstrip('-') to remove trailing hyphens\n",
    "print(a.rstrip('-')) "
   ]
  },
  {
   "cell_type": "code",
   "execution_count": 18,
   "id": "3b93bd47",
   "metadata": {},
   "outputs": [
    {
     "name": "stdout",
     "output_type": "stream",
     "text": [
      "Hello  w, world\n"
     ]
    }
   ],
   "source": [
    "# Original string with leading and trailing hyphens\n",
    "a = \"--Hello  w, world--\"\n",
    "\n",
    "# Using strip('-') to remove both leading and trailing hyphens\n",
    "print(a.strip('-'))  "
   ]
  },
  {
   "cell_type": "code",
   "execution_count": 19,
   "id": "b4612690",
   "metadata": {},
   "outputs": [
    {
     "name": "stdout",
     "output_type": "stream",
     "text": [
      "True\n"
     ]
    }
   ],
   "source": [
    "# Original string containing numeric characters\n",
    "a = '112'\n",
    "\n",
    "# Using isdigit() to check if all characters in the string are digits\n",
    "print(a.isdigit()) "
   ]
  },
  {
   "cell_type": "markdown",
   "id": "4bfd3595",
   "metadata": {},
   "source": [
    "# String Methods"
   ]
  },
  {
   "cell_type": "code",
   "execution_count": 20,
   "id": "b2c403ed",
   "metadata": {},
   "outputs": [
    {
     "name": "stdout",
     "output_type": "stream",
     "text": [
      "True\n",
      "True\n",
      "False\n"
     ]
    }
   ],
   "source": [
    "# Original string containing alphanumeric characters\n",
    "a = \"Yathisha\"\n",
    "\n",
    "# Using isalnum() to check if all characters in the string are alphanumeric\n",
    "print(a.isalnum())  \n",
    "\n",
    "# Using isalpha() to check if all characters in the string are alphabetic\n",
    "print(a.isalpha())  \n",
    "\n",
    "# Using isupper() to check if all characters in the string are uppercase\n",
    "print(a.isupper()) "
   ]
  }
 ],
 "metadata": {
  "kernelspec": {
   "display_name": "Python 3 (ipykernel)",
   "language": "python",
   "name": "python3"
  },
  "language_info": {
   "codemirror_mode": {
    "name": "ipython",
    "version": 3
   },
   "file_extension": ".py",
   "mimetype": "text/x-python",
   "name": "python",
   "nbconvert_exporter": "python",
   "pygments_lexer": "ipython3",
   "version": "3.11.5"
  }
 },
 "nbformat": 4,
 "nbformat_minor": 5
}
