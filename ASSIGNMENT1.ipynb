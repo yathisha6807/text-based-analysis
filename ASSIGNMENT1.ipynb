{
 "cells": [
  {
   "cell_type": "markdown",
   "id": "3ee9d9ae",
   "metadata": {},
   "source": [
    "# Concatenating Strings in Python"
   ]
  },
  {
   "cell_type": "code",
   "execution_count": 19,
   "id": "6873edf9",
   "metadata": {},
   "outputs": [
    {
     "name": "stdout",
     "output_type": "stream",
     "text": [
      "mach and cheese\n"
     ]
    }
   ],
   "source": [
    "x = \"mach\"  # Assigning a string value to variable x\n",
    "y = \"and cheese\" # Assigning a string value to variable y\n",
    "z = x + \" \" + y  # Concatenating strings x and y with a space in between\n",
    "print(z) # Printing the concatenated string"
   ]
  },
  {
   "cell_type": "markdown",
   "id": "709f70e1",
   "metadata": {},
   "source": [
    "# Formatting Strings with Variables in Python"
   ]
  },
  {
   "cell_type": "code",
   "execution_count": 20,
   "id": "88f5e934",
   "metadata": {},
   "outputs": [
    {
     "name": "stdout",
     "output_type": "stream",
     "text": [
      "My name is Yathisha and I am 20 years old.\n"
     ]
    }
   ],
   "source": [
    "name = \"Yathisha\"  # Assigning a string value to variable name\n",
    "age = 20  # Assigning an integer value to variable age\n",
    "# Creating a formatted message using name and age variables\n",
    "message = \"My name is {} and I am {} years old.\".format(name, age)\n",
    "print(message)  # Printing the formatted message\n"
   ]
  },
  {
   "cell_type": "markdown",
   "id": "e98bc979",
   "metadata": {},
   "source": [
    "# Checking for Substring Presence in Python"
   ]
  },
  {
   "cell_type": "code",
   "execution_count": 21,
   "id": "b98bbdd2",
   "metadata": {},
   "outputs": [
    {
     "name": "stdout",
     "output_type": "stream",
     "text": [
      "Fox found!\n"
     ]
    }
   ],
   "source": [
    "text = \"The quick brown fox jumps over the lazy dog\"  # Assigning a string value to variable text\n",
    "if \"fox\" in text:  # Checking if the word \"fox\" is present in the text\n",
    "    print(\"Fox found!\")  # Printing a message if \"fox\" is found in the text"
   ]
  },
  {
   "cell_type": "markdown",
   "id": "2a046fe9",
   "metadata": {},
   "source": [
    "# Removing Leading and Trailing Whitespaces in Python"
   ]
  },
  {
   "cell_type": "code",
   "execution_count": 22,
   "id": "155b222f",
   "metadata": {},
   "outputs": [
    {
     "name": "stdout",
     "output_type": "stream",
     "text": [
      "Cheese\n"
     ]
    }
   ],
   "source": [
    "text = \"   Cheese   \"  # Assigning a string value to variable text\n",
    "stripped_text = text.strip()  # Removing leading and trailing whitespaces from text\n",
    "print(stripped_text)  # Printing the stripped text"
   ]
  },
  {
   "cell_type": "markdown",
   "id": "016a1940",
   "metadata": {},
   "source": [
    "# Slicing Strings in Python"
   ]
  },
  {
   "cell_type": "code",
   "execution_count": 23,
   "id": "31d3977d",
   "metadata": {},
   "outputs": [
    {
     "name": "stdout",
     "output_type": "stream",
     "text": [
      "bre\n"
     ]
    }
   ],
   "source": [
    "text = \"burger\"  # Assigning a string value to variable text\n",
    "sliced_text = text[::2]  # Slicing every second character from text\n",
    "print(sliced_text)  # Printing the sliced text\n"
   ]
  },
  {
   "cell_type": "markdown",
   "id": "495476b6",
   "metadata": {},
   "source": [
    "# Reversing a String in Python"
   ]
  },
  {
   "cell_type": "code",
   "execution_count": 24,
   "id": "7677dbe2",
   "metadata": {},
   "outputs": [
    {
     "name": "stdout",
     "output_type": "stream",
     "text": [
      "eseehc\n"
     ]
    }
   ],
   "source": [
    "text = \"cheese\"  # Assigning a string value to variable text\n",
    "reversed_text = text[::-1]  # Reversing the characters in text\n",
    "print(reversed_text)  # Printing the reversed text"
   ]
  },
  {
   "cell_type": "markdown",
   "id": "d779076b",
   "metadata": {},
   "source": [
    "# Padding Strings in Python"
   ]
  },
  {
   "cell_type": "code",
   "execution_count": 25,
   "id": "99f6c0eb",
   "metadata": {},
   "outputs": [
    {
     "name": "stdout",
     "output_type": "stream",
     "text": [
      "burger****\n"
     ]
    }
   ],
   "source": [
    "text = \"burger\"  # Assigning a string value to variable text\n",
    "padded_text = text.ljust(10, '*')  # Padding text with asterisks to make it 10 characters long\n",
    "print(padded_text)  # Printing the padded text"
   ]
  },
  {
   "cell_type": "markdown",
   "id": "feb9e948",
   "metadata": {},
   "source": [
    "# Finding Substring Index in Python"
   ]
  },
  {
   "cell_type": "code",
   "execution_count": 26,
   "id": "d7458149",
   "metadata": {},
   "outputs": [
    {
     "name": "stdout",
     "output_type": "stream",
     "text": [
      "4\n"
     ]
    }
   ],
   "source": [
    "text = \"ham burger\"  # Assigning a string value to variable text\n",
    "index = text.find(\"burger\")  # Finding the index of the substring \"burger\" in text\n",
    "print(index)  # Printing the index of \"burger\" in text"
   ]
  },
  {
   "cell_type": "markdown",
   "id": "ea54d2fc",
   "metadata": {},
   "source": [
    "# Partitioning Strings in Python"
   ]
  },
  {
   "cell_type": "code",
   "execution_count": 27,
   "id": "69dfb44e",
   "metadata": {},
   "outputs": [
    {
     "name": "stdout",
     "output_type": "stream",
     "text": [
      "('ham', ' ', 'burger')\n"
     ]
    }
   ],
   "source": [
    "text = \"ham burger\"  # Assigning a string value to variable text\n",
    "parts = text.partition(\" \")  # Splitting text into three parts based on the first occurrence of a space\n",
    "print(parts)  # Printing the split parts of text"
   ]
  },
  {
   "cell_type": "markdown",
   "id": "10e8ce10",
   "metadata": {},
   "source": [
    "# Converting Strings to Title Case in Python"
   ]
  },
  {
   "cell_type": "code",
   "execution_count": 28,
   "id": "be48e60e",
   "metadata": {},
   "outputs": [
    {
     "name": "stdout",
     "output_type": "stream",
     "text": [
      "Ham Burger\n"
     ]
    }
   ],
   "source": [
    "text = \"ham burger\"  # Assigning a string value to variable text\n",
    "title_case_text = text.title()  # Converting the text to title case\n",
    "print(title_case_text)  # Printing the text in title case"
   ]
  },
  {
   "cell_type": "markdown",
   "id": "fee262a8",
   "metadata": {},
   "source": [
    "# Using Regular Expressions to Find Words of a Specific Length"
   ]
  },
  {
   "cell_type": "code",
   "execution_count": 29,
   "id": "a470381e",
   "metadata": {},
   "outputs": [
    {
     "name": "stdout",
     "output_type": "stream",
     "text": [
      "['over', 'lazy']\n"
     ]
    }
   ],
   "source": [
    "import re  # Importing the re module for regular expressions\n",
    "\n",
    "text = \"The quick brown fox jumps over the lazy dog\"  # Assigning a string value to variable text\n",
    "matches = re.findall(r'\\b\\w{4}\\b', text)  # Finding all words with 4 characters in text\n",
    "print(matches)  # Printing the matched words"
   ]
  },
  {
   "cell_type": "markdown",
   "id": "879094ed",
   "metadata": {},
   "source": [
    "# Filtering Words by Length Using Regular Expressions"
   ]
  },
  {
   "cell_type": "code",
   "execution_count": 30,
   "id": "ab75f0f8",
   "metadata": {},
   "outputs": [
    {
     "name": "stdout",
     "output_type": "stream",
     "text": [
      "['quick', 'brown', 'jumps']\n"
     ]
    }
   ],
   "source": [
    "import re  # Importing the re module for regular expressions\n",
    "\n",
    "text = \"The quick brown fox jumps over the lazy dog\"  # Assigning a string value to variable text\n",
    "pattern = r'\\b\\w{5}\\b'  # Defining a regular expression pattern to match words with exactly 5 characters\n",
    "matches = re.findall(pattern, text)  # Finding all words matching the pattern in text\n",
    "print(matches)  # Printing the matched words"
   ]
  },
  {
   "cell_type": "markdown",
   "id": "830eeaab",
   "metadata": {},
   "source": [
    "# Using Regular Expressions to Find Vowels in a String"
   ]
  },
  {
   "cell_type": "code",
   "execution_count": 31,
   "id": "dec33d5a",
   "metadata": {},
   "outputs": [
    {
     "name": "stdout",
     "output_type": "stream",
     "text": [
      "['e', 'u', 'i', 'o', 'o', 'u', 'o', 'e', 'e', 'a', 'o']\n"
     ]
    }
   ],
   "source": [
    "import re  # Importing the re module for regular expressions\n",
    "\n",
    "text = \"The quick brown fox jumps over the lazy dog\"  # Assigning a string value to variable text\n",
    "pattern = r'[aeiou]'  # Defining a regular expression pattern to match any vowel\n",
    "matches = re.findall(pattern, text)  # Finding all vowels in text\n",
    "print(matches)  # Printing the matched vowels"
   ]
  }
 ],
 "metadata": {
  "kernelspec": {
   "display_name": "Python 3 (ipykernel)",
   "language": "python",
   "name": "python3"
  },
  "language_info": {
   "codemirror_mode": {
    "name": "ipython",
    "version": 3
   },
   "file_extension": ".py",
   "mimetype": "text/x-python",
   "name": "python",
   "nbconvert_exporter": "python",
   "pygments_lexer": "ipython3",
   "version": "3.11.5"
  }
 },
 "nbformat": 4,
 "nbformat_minor": 5
}
