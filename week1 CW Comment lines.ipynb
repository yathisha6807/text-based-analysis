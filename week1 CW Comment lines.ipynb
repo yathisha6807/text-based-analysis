{
 "cells": [
  {
   "cell_type": "code",
   "execution_count": 1,
   "id": "a647db34",
   "metadata": {},
   "outputs": [
    {
     "name": "stdout",
     "output_type": "stream",
     "text": [
      "Hello\n"
     ]
    }
   ],
   "source": [
    "# Assign the string \"Hello\" to the variable 'a'\n",
    "a = \"Hello\"\n",
    "\n",
    "# Print the value of the variable 'a'\n",
    "print(a)\n"
   ]
  },
  {
   "cell_type": "code",
   "execution_count": 2,
   "id": "c0b0859a",
   "metadata": {},
   "outputs": [
    {
     "name": "stdout",
     "output_type": "stream",
     "text": [
      "e\n"
     ]
    }
   ],
   "source": [
    "# Assign the string \"Hello, World!\" to the variable 'a'\n",
    "a = \"Hello, World!\"\n",
    "\n",
    "# Print the character at index 1 of the string 'a'\n",
    "print(a[1])\n"
   ]
  },
  {
   "cell_type": "code",
   "execution_count": 3,
   "id": "73a52c0f",
   "metadata": {},
   "outputs": [
    {
     "name": "stdout",
     "output_type": "stream",
     "text": [
      "llo\n"
     ]
    }
   ],
   "source": [
    "# Assign the string \"Hello, World!\" to the variable 'b'\n",
    "b = \"Hello, World!\"\n",
    "\n",
    "# Print a substring of 'b' starting from index 2 up to, but not including, index 5\n",
    "print(b[2:5])\n"
   ]
  },
  {
   "cell_type": "code",
   "execution_count": 4,
   "id": "5ade3025",
   "metadata": {},
   "outputs": [
    {
     "name": "stdout",
     "output_type": "stream",
     "text": [
      "e\n",
      "llo\n"
     ]
    }
   ],
   "source": [
    "# Assign the string \"Hello, World!\" to the variable 'a'\n",
    "a = \"Hello, World!\"\n",
    "\n",
    "# Print the character at index 1 of the string 'a'\n",
    "print(a[1])\n",
    "\n",
    "# Assign the string \"Hello, World!\" to the variable 'b'\n",
    "b = \"Hello, World!\"\n",
    "\n",
    "# Print a substring of 'b' starting from index 2 up to, but not including, index 5\n",
    "print(b[2:5])\n"
   ]
  },
  {
   "cell_type": "code",
   "execution_count": 5,
   "id": "db5e7af9",
   "metadata": {},
   "outputs": [
    {
     "name": "stdout",
     "output_type": "stream",
     "text": [
      "13\n",
      "HELLO, WORLD!\n",
      "hello, world!\n",
      "Jello, World!\n"
     ]
    }
   ],
   "source": [
    "# Assign the string \"Hello, World!\" to the variable 'a'\n",
    "a = \"Hello, World!\"\n",
    "\n",
    "# Print the length of the string 'a'\n",
    "print(len(a))\n",
    "\n",
    "# Print the uppercase version of the string 'a'\n",
    "print(a.upper())\n",
    "\n",
    "# Print the lowercase version of the string 'a'\n",
    "print(a.lower())\n",
    "\n",
    "# Replace the character 'H' with 'J' in the string 'a' and print the result\n",
    "print(a.replace(\"H\", \"J\"))\n"
   ]
  },
  {
   "cell_type": "code",
   "execution_count": 6,
   "id": "9f2a7a93",
   "metadata": {},
   "outputs": [
    {
     "name": "stdout",
     "output_type": "stream",
     "text": [
      "Hello World\n"
     ]
    }
   ],
   "source": [
    "# Assign the string \"Hello\" to the variable 'a'\n",
    "a = \"Hello\"\n",
    "\n",
    "# Assign the string \"World\" to the variable 'b'\n",
    "b = \"World\"\n",
    "\n",
    "# Concatenate the strings 'a', a space, and 'b' to create a new string and assign it to the variable 'c'\n",
    "c = a + \" \" + b\n",
    "\n",
    "# Print the concatenated string 'c'\n",
    "print(c)\n"
   ]
  },
  {
   "cell_type": "code",
   "execution_count": 7,
   "id": "599cf255",
   "metadata": {},
   "outputs": [
    {
     "name": "stdout",
     "output_type": "stream",
     "text": [
      "['One', 'two', 'three', 'four']\n"
     ]
    }
   ],
   "source": [
    "# Assign the string 'One two three four' to the variable 'my_string'\n",
    "my_string = 'One two three four'\n",
    "\n",
    "# Use the split() method to split the string into a list of words and assign it to the variable 'word_list'\n",
    "word_list = my_string.split()\n",
    "\n",
    "# Print the resulting list of words\n",
    "print(word_list)\n"
   ]
  },
  {
   "cell_type": "code",
   "execution_count": 8,
   "id": "41b732e3",
   "metadata": {},
   "outputs": [
    {
     "name": "stdout",
     "output_type": "stream",
     "text": [
      "['1', '2', '3', '4', '5']\n"
     ]
    }
   ],
   "source": [
    "# Assign the string '1/2/3/4/5' to the variable 'my_string'\n",
    "my_string = '1/2/3/4/5'\n",
    "\n",
    "# Use the split('/') method to split the string into a list of numbers and assign it to the variable 'number_list'\n",
    "number_list = my_string.split('/')\n",
    "\n",
    "# Print the resulting list of numbers\n",
    "print(number_list)\n"
   ]
  },
  {
   "cell_type": "code",
   "execution_count": 9,
   "id": "f8f548cb",
   "metadata": {},
   "outputs": [
    {
     "name": "stdout",
     "output_type": "stream",
     "text": [
      "['peach', 'raspberry', 'strawberry', 'vanilla']\n"
     ]
    }
   ],
   "source": [
    "# Assign the string 'peach raspberry strawberry vanilla' to the variable 'str'\n",
    "str = 'peach raspberry strawberry vanilla'\n",
    "\n",
    "# Use the split() method to split the string into a list of tokens (words) and assign it to the variable 'tokens'\n",
    "tokens = str.split()\n",
    "\n",
    "# Print the resulting list of tokens\n",
    "print(tokens)\n"
   ]
  },
  {
   "cell_type": "code",
   "execution_count": 10,
   "id": "cb6eaf68",
   "metadata": {},
   "outputs": [
    {
     "name": "stdout",
     "output_type": "stream",
     "text": [
      "['www', 'example', 'com']\n"
     ]
    }
   ],
   "source": [
    "# Assign the string 'www.example.com' to the variable 'my_address'\n",
    "my_address = 'www.example.com'\n",
    "\n",
    "# Use the split('.') method to split the string into a list of tokens (segments) based on the '.' delimiter\n",
    "tokens = my_address.split('.')\n",
    "\n",
    "# Print the resulting list of tokens\n",
    "print(tokens)\n"
   ]
  },
  {
   "cell_type": "code",
   "execution_count": null,
   "id": "c4427056",
   "metadata": {},
   "outputs": [],
   "source": []
  }
 ],
 "metadata": {
  "kernelspec": {
   "display_name": "Python 3 (ipykernel)",
   "language": "python",
   "name": "python3"
  },
  "language_info": {
   "codemirror_mode": {
    "name": "ipython",
    "version": 3
   },
   "file_extension": ".py",
   "mimetype": "text/x-python",
   "name": "python",
   "nbconvert_exporter": "python",
   "pygments_lexer": "ipython3",
   "version": "3.11.5"
  }
 },
 "nbformat": 4,
 "nbformat_minor": 5
}
