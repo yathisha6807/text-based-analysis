{
 "cells": [
  {
   "cell_type": "markdown",
   "id": "eb204b6c",
   "metadata": {},
   "source": [
    "# Pandas Installation using pip"
   ]
  },
  {
   "cell_type": "code",
   "execution_count": 104,
   "id": "4ac19186",
   "metadata": {},
   "outputs": [
    {
     "name": "stdout",
     "output_type": "stream",
     "text": [
      "Requirement already satisfied: pandas in /Users/yathisha/anaconda3/lib/python3.11/site-packages (2.0.3)\n",
      "Requirement already satisfied: python-dateutil>=2.8.2 in /Users/yathisha/anaconda3/lib/python3.11/site-packages (from pandas) (2.8.2)\n",
      "Requirement already satisfied: pytz>=2020.1 in /Users/yathisha/anaconda3/lib/python3.11/site-packages (from pandas) (2023.3.post1)\n",
      "Requirement already satisfied: tzdata>=2022.1 in /Users/yathisha/anaconda3/lib/python3.11/site-packages (from pandas) (2023.3)\n",
      "Requirement already satisfied: numpy>=1.21.0 in /Users/yathisha/anaconda3/lib/python3.11/site-packages (from pandas) (1.24.3)\n",
      "Requirement already satisfied: six>=1.5 in /Users/yathisha/anaconda3/lib/python3.11/site-packages (from python-dateutil>=2.8.2->pandas) (1.16.0)\n",
      "Note: you may need to restart the kernel to use updated packages.\n"
     ]
    }
   ],
   "source": [
    "pip install pandas  #Install Pandas using pip"
   ]
  },
  {
   "cell_type": "markdown",
   "id": "cb3b6451",
   "metadata": {},
   "source": [
    "# Loading Data from CSV into Pandas DataFrame"
   ]
  },
  {
   "cell_type": "code",
   "execution_count": 62,
   "id": "638b9e65",
   "metadata": {},
   "outputs": [],
   "source": [
    "import pandas as pd  #Import the Pandas library and alias it as 'pd'\n",
    "df = pd.read_csv('/Users/yathisha/Downloads/dummy_data.csv') #Use the 'read_csv' function from Pandas to read a CSV file into a DataFrame "
   ]
  },
  {
   "cell_type": "markdown",
   "id": "4527b19b",
   "metadata": {},
   "source": [
    "# Displaying the First 20 Rows of the DataFrame\n"
   ]
  },
  {
   "cell_type": "code",
   "execution_count": 63,
   "id": "205a7807",
   "metadata": {},
   "outputs": [
    {
     "data": {
      "text/html": [
       "<div>\n",
       "<style scoped>\n",
       "    .dataframe tbody tr th:only-of-type {\n",
       "        vertical-align: middle;\n",
       "    }\n",
       "\n",
       "    .dataframe tbody tr th {\n",
       "        vertical-align: top;\n",
       "    }\n",
       "\n",
       "    .dataframe thead th {\n",
       "        text-align: right;\n",
       "    }\n",
       "</style>\n",
       "<table border=\"1\" class=\"dataframe\">\n",
       "  <thead>\n",
       "    <tr style=\"text-align: right;\">\n",
       "      <th></th>\n",
       "      <th>age</th>\n",
       "      <th>gender</th>\n",
       "      <th>time_spent</th>\n",
       "      <th>platform</th>\n",
       "      <th>interests</th>\n",
       "      <th>location</th>\n",
       "      <th>demographics</th>\n",
       "      <th>profession</th>\n",
       "      <th>income</th>\n",
       "      <th>indebt</th>\n",
       "      <th>isHomeOwner</th>\n",
       "      <th>Owns_Car</th>\n",
       "    </tr>\n",
       "  </thead>\n",
       "  <tbody>\n",
       "    <tr>\n",
       "      <th>0</th>\n",
       "      <td>56</td>\n",
       "      <td>male</td>\n",
       "      <td>3</td>\n",
       "      <td>Instagram</td>\n",
       "      <td>Sports</td>\n",
       "      <td>United Kingdom</td>\n",
       "      <td>Urban</td>\n",
       "      <td>Software Engineer</td>\n",
       "      <td>19774</td>\n",
       "      <td>True</td>\n",
       "      <td>False</td>\n",
       "      <td>False</td>\n",
       "    </tr>\n",
       "    <tr>\n",
       "      <th>1</th>\n",
       "      <td>46</td>\n",
       "      <td>female</td>\n",
       "      <td>2</td>\n",
       "      <td>Facebook</td>\n",
       "      <td>Travel</td>\n",
       "      <td>United Kingdom</td>\n",
       "      <td>Urban</td>\n",
       "      <td>Student</td>\n",
       "      <td>10564</td>\n",
       "      <td>True</td>\n",
       "      <td>True</td>\n",
       "      <td>True</td>\n",
       "    </tr>\n",
       "    <tr>\n",
       "      <th>2</th>\n",
       "      <td>32</td>\n",
       "      <td>male</td>\n",
       "      <td>8</td>\n",
       "      <td>Instagram</td>\n",
       "      <td>Sports</td>\n",
       "      <td>Australia</td>\n",
       "      <td>Sub_Urban</td>\n",
       "      <td>Marketer Manager</td>\n",
       "      <td>13258</td>\n",
       "      <td>False</td>\n",
       "      <td>False</td>\n",
       "      <td>False</td>\n",
       "    </tr>\n",
       "    <tr>\n",
       "      <th>3</th>\n",
       "      <td>60</td>\n",
       "      <td>non-binary</td>\n",
       "      <td>5</td>\n",
       "      <td>Instagram</td>\n",
       "      <td>Travel</td>\n",
       "      <td>United Kingdom</td>\n",
       "      <td>Urban</td>\n",
       "      <td>Student</td>\n",
       "      <td>12500</td>\n",
       "      <td>False</td>\n",
       "      <td>True</td>\n",
       "      <td>False</td>\n",
       "    </tr>\n",
       "    <tr>\n",
       "      <th>4</th>\n",
       "      <td>25</td>\n",
       "      <td>male</td>\n",
       "      <td>1</td>\n",
       "      <td>Instagram</td>\n",
       "      <td>Lifestlye</td>\n",
       "      <td>Australia</td>\n",
       "      <td>Urban</td>\n",
       "      <td>Software Engineer</td>\n",
       "      <td>14566</td>\n",
       "      <td>False</td>\n",
       "      <td>True</td>\n",
       "      <td>True</td>\n",
       "    </tr>\n",
       "    <tr>\n",
       "      <th>5</th>\n",
       "      <td>38</td>\n",
       "      <td>male</td>\n",
       "      <td>3</td>\n",
       "      <td>Facebook</td>\n",
       "      <td>Travel</td>\n",
       "      <td>United States</td>\n",
       "      <td>Urban</td>\n",
       "      <td>Marketer Manager</td>\n",
       "      <td>19179</td>\n",
       "      <td>True</td>\n",
       "      <td>True</td>\n",
       "      <td>True</td>\n",
       "    </tr>\n",
       "    <tr>\n",
       "      <th>6</th>\n",
       "      <td>56</td>\n",
       "      <td>male</td>\n",
       "      <td>8</td>\n",
       "      <td>YouTube</td>\n",
       "      <td>Sports</td>\n",
       "      <td>United States</td>\n",
       "      <td>Urban</td>\n",
       "      <td>Student</td>\n",
       "      <td>16881</td>\n",
       "      <td>True</td>\n",
       "      <td>True</td>\n",
       "      <td>True</td>\n",
       "    </tr>\n",
       "    <tr>\n",
       "      <th>7</th>\n",
       "      <td>36</td>\n",
       "      <td>male</td>\n",
       "      <td>4</td>\n",
       "      <td>Instagram</td>\n",
       "      <td>Sports</td>\n",
       "      <td>Australia</td>\n",
       "      <td>Urban</td>\n",
       "      <td>Marketer Manager</td>\n",
       "      <td>13636</td>\n",
       "      <td>True</td>\n",
       "      <td>False</td>\n",
       "      <td>True</td>\n",
       "    </tr>\n",
       "    <tr>\n",
       "      <th>8</th>\n",
       "      <td>40</td>\n",
       "      <td>non-binary</td>\n",
       "      <td>7</td>\n",
       "      <td>YouTube</td>\n",
       "      <td>Lifestlye</td>\n",
       "      <td>Australia</td>\n",
       "      <td>Sub_Urban</td>\n",
       "      <td>Marketer Manager</td>\n",
       "      <td>16030</td>\n",
       "      <td>False</td>\n",
       "      <td>False</td>\n",
       "      <td>True</td>\n",
       "    </tr>\n",
       "    <tr>\n",
       "      <th>9</th>\n",
       "      <td>28</td>\n",
       "      <td>non-binary</td>\n",
       "      <td>2</td>\n",
       "      <td>Instagram</td>\n",
       "      <td>Sports</td>\n",
       "      <td>Australia</td>\n",
       "      <td>Sub_Urban</td>\n",
       "      <td>Marketer Manager</td>\n",
       "      <td>10223</td>\n",
       "      <td>True</td>\n",
       "      <td>False</td>\n",
       "      <td>True</td>\n",
       "    </tr>\n",
       "    <tr>\n",
       "      <th>10</th>\n",
       "      <td>28</td>\n",
       "      <td>female</td>\n",
       "      <td>7</td>\n",
       "      <td>YouTube</td>\n",
       "      <td>Lifestlye</td>\n",
       "      <td>United Kingdom</td>\n",
       "      <td>Urban</td>\n",
       "      <td>Student</td>\n",
       "      <td>16297</td>\n",
       "      <td>True</td>\n",
       "      <td>True</td>\n",
       "      <td>False</td>\n",
       "    </tr>\n",
       "    <tr>\n",
       "      <th>11</th>\n",
       "      <td>41</td>\n",
       "      <td>non-binary</td>\n",
       "      <td>5</td>\n",
       "      <td>Facebook</td>\n",
       "      <td>Sports</td>\n",
       "      <td>United States</td>\n",
       "      <td>Sub_Urban</td>\n",
       "      <td>Marketer Manager</td>\n",
       "      <td>10350</td>\n",
       "      <td>False</td>\n",
       "      <td>False</td>\n",
       "      <td>False</td>\n",
       "    </tr>\n",
       "    <tr>\n",
       "      <th>12</th>\n",
       "      <td>53</td>\n",
       "      <td>non-binary</td>\n",
       "      <td>5</td>\n",
       "      <td>Facebook</td>\n",
       "      <td>Sports</td>\n",
       "      <td>Australia</td>\n",
       "      <td>Rural</td>\n",
       "      <td>Student</td>\n",
       "      <td>17314</td>\n",
       "      <td>False</td>\n",
       "      <td>True</td>\n",
       "      <td>True</td>\n",
       "    </tr>\n",
       "    <tr>\n",
       "      <th>13</th>\n",
       "      <td>57</td>\n",
       "      <td>female</td>\n",
       "      <td>6</td>\n",
       "      <td>Instagram</td>\n",
       "      <td>Lifestlye</td>\n",
       "      <td>United Kingdom</td>\n",
       "      <td>Urban</td>\n",
       "      <td>Software Engineer</td>\n",
       "      <td>11928</td>\n",
       "      <td>False</td>\n",
       "      <td>True</td>\n",
       "      <td>False</td>\n",
       "    </tr>\n",
       "    <tr>\n",
       "      <th>14</th>\n",
       "      <td>41</td>\n",
       "      <td>non-binary</td>\n",
       "      <td>9</td>\n",
       "      <td>YouTube</td>\n",
       "      <td>Travel</td>\n",
       "      <td>United States</td>\n",
       "      <td>Rural</td>\n",
       "      <td>Student</td>\n",
       "      <td>17743</td>\n",
       "      <td>True</td>\n",
       "      <td>True</td>\n",
       "      <td>False</td>\n",
       "    </tr>\n",
       "    <tr>\n",
       "      <th>15</th>\n",
       "      <td>20</td>\n",
       "      <td>male</td>\n",
       "      <td>6</td>\n",
       "      <td>Facebook</td>\n",
       "      <td>Sports</td>\n",
       "      <td>United Kingdom</td>\n",
       "      <td>Sub_Urban</td>\n",
       "      <td>Software Engineer</td>\n",
       "      <td>18540</td>\n",
       "      <td>True</td>\n",
       "      <td>True</td>\n",
       "      <td>False</td>\n",
       "    </tr>\n",
       "    <tr>\n",
       "      <th>16</th>\n",
       "      <td>39</td>\n",
       "      <td>male</td>\n",
       "      <td>8</td>\n",
       "      <td>Instagram</td>\n",
       "      <td>Travel</td>\n",
       "      <td>United States</td>\n",
       "      <td>Sub_Urban</td>\n",
       "      <td>Student</td>\n",
       "      <td>14732</td>\n",
       "      <td>True</td>\n",
       "      <td>True</td>\n",
       "      <td>False</td>\n",
       "    </tr>\n",
       "    <tr>\n",
       "      <th>17</th>\n",
       "      <td>19</td>\n",
       "      <td>female</td>\n",
       "      <td>7</td>\n",
       "      <td>Instagram</td>\n",
       "      <td>Sports</td>\n",
       "      <td>United Kingdom</td>\n",
       "      <td>Rural</td>\n",
       "      <td>Marketer Manager</td>\n",
       "      <td>11017</td>\n",
       "      <td>False</td>\n",
       "      <td>True</td>\n",
       "      <td>True</td>\n",
       "    </tr>\n",
       "    <tr>\n",
       "      <th>18</th>\n",
       "      <td>41</td>\n",
       "      <td>female</td>\n",
       "      <td>9</td>\n",
       "      <td>Facebook</td>\n",
       "      <td>Sports</td>\n",
       "      <td>United States</td>\n",
       "      <td>Sub_Urban</td>\n",
       "      <td>Student</td>\n",
       "      <td>12226</td>\n",
       "      <td>False</td>\n",
       "      <td>False</td>\n",
       "      <td>False</td>\n",
       "    </tr>\n",
       "    <tr>\n",
       "      <th>19</th>\n",
       "      <td>61</td>\n",
       "      <td>female</td>\n",
       "      <td>4</td>\n",
       "      <td>Facebook</td>\n",
       "      <td>Sports</td>\n",
       "      <td>United States</td>\n",
       "      <td>Urban</td>\n",
       "      <td>Marketer Manager</td>\n",
       "      <td>17206</td>\n",
       "      <td>False</td>\n",
       "      <td>False</td>\n",
       "      <td>False</td>\n",
       "    </tr>\n",
       "  </tbody>\n",
       "</table>\n",
       "</div>"
      ],
      "text/plain": [
       "    age      gender  time_spent   platform  interests        location  \\\n",
       "0    56        male           3  Instagram     Sports  United Kingdom   \n",
       "1    46      female           2   Facebook     Travel  United Kingdom   \n",
       "2    32        male           8  Instagram     Sports       Australia   \n",
       "3    60  non-binary           5  Instagram     Travel  United Kingdom   \n",
       "4    25        male           1  Instagram  Lifestlye       Australia   \n",
       "5    38        male           3   Facebook     Travel   United States   \n",
       "6    56        male           8    YouTube     Sports   United States   \n",
       "7    36        male           4  Instagram     Sports       Australia   \n",
       "8    40  non-binary           7    YouTube  Lifestlye       Australia   \n",
       "9    28  non-binary           2  Instagram     Sports       Australia   \n",
       "10   28      female           7    YouTube  Lifestlye  United Kingdom   \n",
       "11   41  non-binary           5   Facebook     Sports   United States   \n",
       "12   53  non-binary           5   Facebook     Sports       Australia   \n",
       "13   57      female           6  Instagram  Lifestlye  United Kingdom   \n",
       "14   41  non-binary           9    YouTube     Travel   United States   \n",
       "15   20        male           6   Facebook     Sports  United Kingdom   \n",
       "16   39        male           8  Instagram     Travel   United States   \n",
       "17   19      female           7  Instagram     Sports  United Kingdom   \n",
       "18   41      female           9   Facebook     Sports   United States   \n",
       "19   61      female           4   Facebook     Sports   United States   \n",
       "\n",
       "   demographics         profession  income  indebt  isHomeOwner  Owns_Car  \n",
       "0         Urban  Software Engineer   19774    True        False     False  \n",
       "1         Urban            Student   10564    True         True      True  \n",
       "2     Sub_Urban   Marketer Manager   13258   False        False     False  \n",
       "3         Urban            Student   12500   False         True     False  \n",
       "4         Urban  Software Engineer   14566   False         True      True  \n",
       "5         Urban   Marketer Manager   19179    True         True      True  \n",
       "6         Urban            Student   16881    True         True      True  \n",
       "7         Urban   Marketer Manager   13636    True        False      True  \n",
       "8     Sub_Urban   Marketer Manager   16030   False        False      True  \n",
       "9     Sub_Urban   Marketer Manager   10223    True        False      True  \n",
       "10        Urban            Student   16297    True         True     False  \n",
       "11    Sub_Urban   Marketer Manager   10350   False        False     False  \n",
       "12        Rural            Student   17314   False         True      True  \n",
       "13        Urban  Software Engineer   11928   False         True     False  \n",
       "14        Rural            Student   17743    True         True     False  \n",
       "15    Sub_Urban  Software Engineer   18540    True         True     False  \n",
       "16    Sub_Urban            Student   14732    True         True     False  \n",
       "17        Rural   Marketer Manager   11017   False         True      True  \n",
       "18    Sub_Urban            Student   12226   False        False     False  \n",
       "19        Urban   Marketer Manager   17206   False        False     False  "
      ]
     },
     "execution_count": 63,
     "metadata": {},
     "output_type": "execute_result"
    }
   ],
   "source": [
    "df.head(20)  #Displaying the First 20 Rows of a DataFrame"
   ]
  },
  {
   "cell_type": "markdown",
   "id": "c08fea0b",
   "metadata": {},
   "source": [
    "# Displaying Column Names of the DataFrame"
   ]
  },
  {
   "cell_type": "code",
   "execution_count": 64,
   "id": "f165abff",
   "metadata": {},
   "outputs": [
    {
     "data": {
      "text/plain": [
       "Index(['age', 'gender', 'time_spent', 'platform', 'interests', 'location',\n",
       "       'demographics', 'profession', 'income', 'indebt', 'isHomeOwner',\n",
       "       'Owns_Car'],\n",
       "      dtype='object')"
      ]
     },
     "execution_count": 64,
     "metadata": {},
     "output_type": "execute_result"
    }
   ],
   "source": [
    "df.columns # Display column names"
   ]
  },
  {
   "cell_type": "markdown",
   "id": "d4777683",
   "metadata": {},
   "source": [
    "# Displaying Data Types of DataFrame Columns"
   ]
  },
  {
   "cell_type": "code",
   "execution_count": 65,
   "id": "bb1f4df7",
   "metadata": {},
   "outputs": [
    {
     "data": {
      "text/plain": [
       "age              int64\n",
       "gender          object\n",
       "time_spent       int64\n",
       "platform        object\n",
       "interests       object\n",
       "location        object\n",
       "demographics    object\n",
       "profession      object\n",
       "income           int64\n",
       "indebt            bool\n",
       "isHomeOwner       bool\n",
       "Owns_Car          bool\n",
       "dtype: object"
      ]
     },
     "execution_count": 65,
     "metadata": {},
     "output_type": "execute_result"
    }
   ],
   "source": [
    "df.dtypes # Display data types of columns"
   ]
  },
  {
   "cell_type": "markdown",
   "id": "d2f5367c",
   "metadata": {},
   "source": [
    "# Displaying DataFrame Information with info() Method"
   ]
  },
  {
   "cell_type": "code",
   "execution_count": 105,
   "id": "c4002389",
   "metadata": {},
   "outputs": [
    {
     "name": "stdout",
     "output_type": "stream",
     "text": [
      "<class 'pandas.core.frame.DataFrame'>\n",
      "RangeIndex: 1000 entries, 0 to 999\n",
      "Data columns (total 16 columns):\n",
      " #   Column          Non-Null Count  Dtype \n",
      "---  ------          --------------  ----- \n",
      " 0   age             1000 non-null   int64 \n",
      " 1   gender          1000 non-null   object\n",
      " 2   time_spent      1000 non-null   int64 \n",
      " 3   platform        1000 non-null   object\n",
      " 4   interests       1000 non-null   object\n",
      " 5   location        1000 non-null   object\n",
      " 6   demographics    1000 non-null   object\n",
      " 7   profession      1000 non-null   object\n",
      " 8   income          1000 non-null   int64 \n",
      " 9   indebt          1000 non-null   bool  \n",
      " 10  isHomeOwner     1000 non-null   bool  \n",
      " 11  Owns_Car        1000 non-null   bool  \n",
      " 12  length          1000 non-null   int64 \n",
      " 13  tokens          1000 non-null   object\n",
      " 14  num_tokens      1000 non-null   int64 \n",
      " 15  Bing_Liu_Score  1000 non-null   int64 \n",
      "dtypes: bool(3), int64(6), object(7)\n",
      "memory usage: 104.6+ KB\n",
      "None\n"
     ]
    }
   ],
   "source": [
    "print(df.info())  # Displaying information about the DataFrame using the info() method\n"
   ]
  },
  {
   "cell_type": "markdown",
   "id": "43a8d050",
   "metadata": {},
   "source": [
    "# Generating Descriptive Statistics with describe() Method\n"
   ]
  },
  {
   "cell_type": "code",
   "execution_count": 67,
   "id": "bbab8a46",
   "metadata": {},
   "outputs": [
    {
     "data": {
      "text/html": [
       "<div>\n",
       "<style scoped>\n",
       "    .dataframe tbody tr th:only-of-type {\n",
       "        vertical-align: middle;\n",
       "    }\n",
       "\n",
       "    .dataframe tbody tr th {\n",
       "        vertical-align: top;\n",
       "    }\n",
       "\n",
       "    .dataframe thead th {\n",
       "        text-align: right;\n",
       "    }\n",
       "</style>\n",
       "<table border=\"1\" class=\"dataframe\">\n",
       "  <thead>\n",
       "    <tr style=\"text-align: right;\">\n",
       "      <th></th>\n",
       "      <th>age</th>\n",
       "      <th>time_spent</th>\n",
       "      <th>income</th>\n",
       "    </tr>\n",
       "  </thead>\n",
       "  <tbody>\n",
       "    <tr>\n",
       "      <th>count</th>\n",
       "      <td>1000.000000</td>\n",
       "      <td>1000.000000</td>\n",
       "      <td>1000.000000</td>\n",
       "    </tr>\n",
       "    <tr>\n",
       "      <th>mean</th>\n",
       "      <td>40.986000</td>\n",
       "      <td>5.029000</td>\n",
       "      <td>15014.823000</td>\n",
       "    </tr>\n",
       "    <tr>\n",
       "      <th>std</th>\n",
       "      <td>13.497852</td>\n",
       "      <td>2.537834</td>\n",
       "      <td>2958.628221</td>\n",
       "    </tr>\n",
       "    <tr>\n",
       "      <th>min</th>\n",
       "      <td>18.000000</td>\n",
       "      <td>1.000000</td>\n",
       "      <td>10012.000000</td>\n",
       "    </tr>\n",
       "    <tr>\n",
       "      <th>25%</th>\n",
       "      <td>29.000000</td>\n",
       "      <td>3.000000</td>\n",
       "      <td>12402.250000</td>\n",
       "    </tr>\n",
       "    <tr>\n",
       "      <th>50%</th>\n",
       "      <td>42.000000</td>\n",
       "      <td>5.000000</td>\n",
       "      <td>14904.500000</td>\n",
       "    </tr>\n",
       "    <tr>\n",
       "      <th>75%</th>\n",
       "      <td>52.000000</td>\n",
       "      <td>7.000000</td>\n",
       "      <td>17674.250000</td>\n",
       "    </tr>\n",
       "    <tr>\n",
       "      <th>max</th>\n",
       "      <td>64.000000</td>\n",
       "      <td>9.000000</td>\n",
       "      <td>19980.000000</td>\n",
       "    </tr>\n",
       "  </tbody>\n",
       "</table>\n",
       "</div>"
      ],
      "text/plain": [
       "               age   time_spent        income\n",
       "count  1000.000000  1000.000000   1000.000000\n",
       "mean     40.986000     5.029000  15014.823000\n",
       "std      13.497852     2.537834   2958.628221\n",
       "min      18.000000     1.000000  10012.000000\n",
       "25%      29.000000     3.000000  12402.250000\n",
       "50%      42.000000     5.000000  14904.500000\n",
       "75%      52.000000     7.000000  17674.250000\n",
       "max      64.000000     9.000000  19980.000000"
      ]
     },
     "execution_count": 67,
     "metadata": {},
     "output_type": "execute_result"
    }
   ],
   "source": [
    "df.describe() # Generating descriptive statistics of the DataFrame using the describe() method."
   ]
  },
  {
   "cell_type": "markdown",
   "id": "0263ab25",
   "metadata": {},
   "source": [
    "# Calculating and Displaying DataFrame Length"
   ]
  },
  {
   "cell_type": "code",
   "execution_count": 68,
   "id": "57cda67a",
   "metadata": {},
   "outputs": [
    {
     "name": "stdout",
     "output_type": "stream",
     "text": [
      "Length of DataFrame: 1000\n"
     ]
    }
   ],
   "source": [
    "length = len(df)  # Calculating the length of the DataFrame using the len() function.\n",
    "print(\"Length of DataFrame:\", length)  # Displaying the length of the DataFrame as a measure of the number of rows\n"
   ]
  },
  {
   "cell_type": "markdown",
   "id": "a92bc0d1",
   "metadata": {},
   "source": [
    "# Adding String Length Column and Descriptive Statistics"
   ]
  },
  {
   "cell_type": "code",
   "execution_count": 70,
   "id": "a6de4fc4",
   "metadata": {},
   "outputs": [
    {
     "data": {
      "text/html": [
       "<div>\n",
       "<style scoped>\n",
       "    .dataframe tbody tr th:only-of-type {\n",
       "        vertical-align: middle;\n",
       "    }\n",
       "\n",
       "    .dataframe tbody tr th {\n",
       "        vertical-align: top;\n",
       "    }\n",
       "\n",
       "    .dataframe thead th {\n",
       "        text-align: right;\n",
       "    }\n",
       "</style>\n",
       "<table border=\"1\" class=\"dataframe\">\n",
       "  <thead>\n",
       "    <tr style=\"text-align: right;\">\n",
       "      <th></th>\n",
       "      <th>age</th>\n",
       "      <th>time_spent</th>\n",
       "      <th>income</th>\n",
       "      <th>length</th>\n",
       "    </tr>\n",
       "  </thead>\n",
       "  <tbody>\n",
       "    <tr>\n",
       "      <th>count</th>\n",
       "      <td>1000.000000</td>\n",
       "      <td>1000.000000</td>\n",
       "      <td>1000.000000</td>\n",
       "      <td>1000.000000</td>\n",
       "    </tr>\n",
       "    <tr>\n",
       "      <th>mean</th>\n",
       "      <td>40.986000</td>\n",
       "      <td>5.029000</td>\n",
       "      <td>15014.823000</td>\n",
       "      <td>11.921000</td>\n",
       "    </tr>\n",
       "    <tr>\n",
       "      <th>std</th>\n",
       "      <td>13.497852</td>\n",
       "      <td>2.537834</td>\n",
       "      <td>2958.628221</td>\n",
       "      <td>2.191246</td>\n",
       "    </tr>\n",
       "    <tr>\n",
       "      <th>min</th>\n",
       "      <td>18.000000</td>\n",
       "      <td>1.000000</td>\n",
       "      <td>10012.000000</td>\n",
       "      <td>9.000000</td>\n",
       "    </tr>\n",
       "    <tr>\n",
       "      <th>25%</th>\n",
       "      <td>29.000000</td>\n",
       "      <td>3.000000</td>\n",
       "      <td>12402.250000</td>\n",
       "      <td>9.000000</td>\n",
       "    </tr>\n",
       "    <tr>\n",
       "      <th>50%</th>\n",
       "      <td>42.000000</td>\n",
       "      <td>5.000000</td>\n",
       "      <td>14904.500000</td>\n",
       "      <td>13.000000</td>\n",
       "    </tr>\n",
       "    <tr>\n",
       "      <th>75%</th>\n",
       "      <td>52.000000</td>\n",
       "      <td>7.000000</td>\n",
       "      <td>17674.250000</td>\n",
       "      <td>14.000000</td>\n",
       "    </tr>\n",
       "    <tr>\n",
       "      <th>max</th>\n",
       "      <td>64.000000</td>\n",
       "      <td>9.000000</td>\n",
       "      <td>19980.000000</td>\n",
       "      <td>14.000000</td>\n",
       "    </tr>\n",
       "  </tbody>\n",
       "</table>\n",
       "</div>"
      ],
      "text/plain": [
       "               age   time_spent        income       length\n",
       "count  1000.000000  1000.000000   1000.000000  1000.000000\n",
       "mean     40.986000     5.029000  15014.823000    11.921000\n",
       "std      13.497852     2.537834   2958.628221     2.191246\n",
       "min      18.000000     1.000000  10012.000000     9.000000\n",
       "25%      29.000000     3.000000  12402.250000     9.000000\n",
       "50%      42.000000     5.000000  14904.500000    13.000000\n",
       "75%      52.000000     7.000000  17674.250000    14.000000\n",
       "max      64.000000     9.000000  19980.000000    14.000000"
      ]
     },
     "execution_count": 70,
     "metadata": {},
     "output_type": "execute_result"
    }
   ],
   "source": [
    "df['length'] = df['location'].str.len() # Creating a new column 'length' in the DataFrame, containing the length of each string in the 'location' column.\n",
    "df.describe()  # Generating descriptive statistics for the DataFrame, including the newly added 'length' column.\n"
   ]
  },
  {
   "cell_type": "markdown",
   "id": "4acb1f77",
   "metadata": {},
   "source": [
    "# Descriptive Statistics for Object (String) Columns"
   ]
  },
  {
   "cell_type": "code",
   "execution_count": 71,
   "id": "5060ece3",
   "metadata": {},
   "outputs": [
    {
     "data": {
      "text/html": [
       "<div>\n",
       "<style scoped>\n",
       "    .dataframe tbody tr th:only-of-type {\n",
       "        vertical-align: middle;\n",
       "    }\n",
       "\n",
       "    .dataframe tbody tr th {\n",
       "        vertical-align: top;\n",
       "    }\n",
       "\n",
       "    .dataframe thead th {\n",
       "        text-align: right;\n",
       "    }\n",
       "</style>\n",
       "<table border=\"1\" class=\"dataframe\">\n",
       "  <thead>\n",
       "    <tr style=\"text-align: right;\">\n",
       "      <th></th>\n",
       "      <th>gender</th>\n",
       "      <th>platform</th>\n",
       "      <th>interests</th>\n",
       "      <th>location</th>\n",
       "      <th>demographics</th>\n",
       "      <th>profession</th>\n",
       "    </tr>\n",
       "  </thead>\n",
       "  <tbody>\n",
       "    <tr>\n",
       "      <th>count</th>\n",
       "      <td>1000</td>\n",
       "      <td>1000</td>\n",
       "      <td>1000</td>\n",
       "      <td>1000</td>\n",
       "      <td>1000</td>\n",
       "      <td>1000</td>\n",
       "    </tr>\n",
       "    <tr>\n",
       "      <th>unique</th>\n",
       "      <td>3</td>\n",
       "      <td>3</td>\n",
       "      <td>3</td>\n",
       "      <td>3</td>\n",
       "      <td>3</td>\n",
       "      <td>3</td>\n",
       "    </tr>\n",
       "    <tr>\n",
       "      <th>top</th>\n",
       "      <td>male</td>\n",
       "      <td>Instagram</td>\n",
       "      <td>Lifestlye</td>\n",
       "      <td>Australia</td>\n",
       "      <td>Rural</td>\n",
       "      <td>Marketer Manager</td>\n",
       "    </tr>\n",
       "    <tr>\n",
       "      <th>freq</th>\n",
       "      <td>337</td>\n",
       "      <td>363</td>\n",
       "      <td>341</td>\n",
       "      <td>352</td>\n",
       "      <td>340</td>\n",
       "      <td>355</td>\n",
       "    </tr>\n",
       "  </tbody>\n",
       "</table>\n",
       "</div>"
      ],
      "text/plain": [
       "       gender   platform  interests   location demographics        profession\n",
       "count    1000       1000       1000       1000         1000              1000\n",
       "unique      3          3          3          3            3                 3\n",
       "top      male  Instagram  Lifestlye  Australia        Rural  Marketer Manager\n",
       "freq      337        363        341        352          340               355"
      ]
     },
     "execution_count": 71,
     "metadata": {},
     "output_type": "execute_result"
    }
   ],
   "source": [
    "df.describe(include='O')  # Generating descriptive statistics for the DataFrame's object (string) columns using the describe() method with include='O'.\n"
   ]
  },
  {
   "cell_type": "markdown",
   "id": "b8f2adc0",
   "metadata": {},
   "source": [
    "# Counting Missing Values in Each Colum"
   ]
  },
  {
   "cell_type": "code",
   "execution_count": 72,
   "id": "dc9cd438",
   "metadata": {},
   "outputs": [
    {
     "data": {
      "text/plain": [
       "age             0\n",
       "gender          0\n",
       "time_spent      0\n",
       "platform        0\n",
       "interests       0\n",
       "location        0\n",
       "demographics    0\n",
       "profession      0\n",
       "income          0\n",
       "indebt          0\n",
       "isHomeOwner     0\n",
       "Owns_Car        0\n",
       "length          0\n",
       "dtype: int64"
      ]
     },
     "execution_count": 72,
     "metadata": {},
     "output_type": "execute_result"
    }
   ],
   "source": [
    "df.isna().sum() # Display the count of missing values in each column"
   ]
  },
  {
   "cell_type": "markdown",
   "id": "cb5e07f2",
   "metadata": {},
   "source": [
    "# Histogram: Distribution of Numerical Variable 'interests'"
   ]
  },
  {
   "cell_type": "code",
   "execution_count": 74,
   "id": "5bf66e5a",
   "metadata": {},
   "outputs": [
    {
     "data": {
      "image/png": "[encoded data removed]",
      "text/plain": [
       "<Figure size 800x600 with 1 Axes>"
      ]
     },
     "metadata": {},
     "output_type": "display_data"
    }
   ],
   "source": [
    "# Histogram for numerical variable 'interests'\n",
    "plt.figure(figsize=(8, 6))\n",
    "plt.hist(df['interests'], bins=20, color='skyblue', edgecolor='black')\n",
    "plt.title('Distribution of interests')\n",
    "plt.xlabel('interests')\n",
    "plt.ylabel('count')\n",
    "plt.show()"
   ]
  },
  {
   "cell_type": "markdown",
   "id": "2bb698c0",
   "metadata": {},
   "source": [
    "# Boxplot: Distribution of Numerical Variable 'age'"
   ]
  },
  {
   "cell_type": "code",
   "execution_count": 79,
   "id": "a674c392",
   "metadata": {},
   "outputs": [
    {
     "data": {
      "image/png": "[encoded data removed]",
      "text/plain": [
       "<Figure size 800x600 with 1 Axes>"
      ]
     },
     "metadata": {},
     "output_type": "display_data"
    }
   ],
   "source": [
    "# Boxplot for numerical variable 'age'\n",
    "plt.figure(figsize=(8, 6))\n",
    "sns.boxplot(x=df['age'], color='skyblue')\n",
    "plt.title('Boxplot of age')\n",
    "plt.xlabel('age')\n",
    "plt.show()\n"
   ]
  },
  {
   "cell_type": "markdown",
   "id": "fae3aebc",
   "metadata": {},
   "source": [
    "# Tokenizing Function Using Regex"
   ]
  },
  {
   "cell_type": "code",
   "execution_count": 44,
   "id": "6d8b6d71",
   "metadata": {},
   "outputs": [],
   "source": [
    "# Importing Regex Package\n",
    "import regex as re\n",
    "# Defining a Function to Pull Words\n",
    "def tokenize(text):\n",
    "    return re.findall(r'[\\w-]*[a-z|A-Z][\\w-]*', text)"
   ]
  },
  {
   "cell_type": "markdown",
   "id": "094a137c",
   "metadata": {},
   "source": [
    "# Tokenizing Given Text Using Defined Function"
   ]
  },
  {
   "cell_type": "code",
   "execution_count": 45,
   "id": "3f4089d8",
   "metadata": {},
   "outputs": [
    {
     "name": "stdout",
     "output_type": "stream",
     "text": [
      "['Let', 's', 'defeat', 'SARS-CoV-2', 'together', 'in', 'www', 'cdc', 'gov']\n"
     ]
    }
   ],
   "source": [
    "# Toknizing the Given Text\n",
    "testtext = \"Let's defeat SARS-CoV-2 together in 2020! www.cdc.gov\"\n",
    "testtokens = tokenize(testtext)\n",
    "print(testtokens)"
   ]
  },
  {
   "cell_type": "markdown",
   "id": "91df55e7",
   "metadata": {},
   "source": [
    "# Importing NLTK Package\n"
   ]
  },
  {
   "cell_type": "code",
   "execution_count": 47,
   "id": "88dc5ac1",
   "metadata": {},
   "outputs": [],
   "source": [
    "# Importing nltk Package\n",
    "import nltk"
   ]
  },
  {
   "cell_type": "markdown",
   "id": "ba869fc8",
   "metadata": {},
   "source": [
    "# Downloading Stop Words List with NLTK"
   ]
  },
  {
   "cell_type": "code",
   "execution_count": 48,
   "id": "85e3f18d",
   "metadata": {},
   "outputs": [
    {
     "name": "stdout",
     "output_type": "stream",
     "text": [
      "{'under', \"you'd\", 'having', 'my', 'further', 'from', 'for', 'own', \"needn't\", 'did', 'each', 'any', 'couldn', 'doesn', 'than', 'being', 'few', 'into', 'and', 'wasn', 'hadn', 'after', 're', 'its', 'have', 'should', 'yours', 'm', 'been', 'other', 'him', 'through', 'you', 'it', 's', 'while', 'off', 'her', 'same', 'once', 'is', \"should've\", \"mightn't\", \"she's\", 'had', 'an', 'i', 'of', 'are', 'over', 'won', 'she', 'haven', 'we', 'them', \"that'll\", 'that', 'nor', 'theirs', 'again', \"didn't\", 'shouldn', 'all', 't', 'too', 'hers', 'because', 'does', 'wouldn', 'were', \"shan't\", 'just', 'only', 'yourself', 'above', 'y', 'which', \"wasn't\", 'not', 'll', 'why', 'when', 'mightn', \"you've\", 'mustn', \"you'll\", 'to', 'if', 'both', 'can', 'aren', 'himself', 'until', 'before', 'no', 'do', 'with', \"haven't\", 'didn', 'what', 'but', 'myself', 'our', 'between', 'where', 'some', 'then', 'herself', 'most', 'o', \"hasn't\", 'this', \"isn't\", 'such', 'whom', 'about', 'd', \"weren't\", 'very', 'ma', 'their', 'there', 'during', 'needn', \"won't\", 'itself', \"doesn't\", \"mustn't\", 'don', \"you're\", 'your', 'below', 'themselves', 'shan', 'on', 'ain', 'by', 'weren', 'has', 'against', \"shouldn't\", 'as', \"aren't\", 'those', 'down', 'ours', 'will', 'isn', 'or', 'so', 'am', 'who', 'a', 've', \"couldn't\", 'be', 'here', 'more', 'at', 'in', 'hasn', 'these', 'his', 'doing', \"hadn't\", 'me', 'ourselves', 'out', \"it's\", \"don't\", 'was', \"wouldn't\", 'how', 'up', 'yourselves', 'now', 'he', 'they', 'the'}\n"
     ]
    },
    {
     "name": "stderr",
     "output_type": "stream",
     "text": [
      "[nltk_data] Downloading package stopwords to\n",
      "[nltk_data]     /Users/yathisha/nltk_data...\n",
      "[nltk_data]   Package stopwords is already up-to-date!\n"
     ]
    }
   ],
   "source": [
    "# Downloading all List of Stop Words\n",
    "nltk.download('stopwords')\n",
    "stopwords = set(nltk.corpus.stopwords.words('english'))\n",
    "print(stopwords)"
   ]
  },
  {
   "cell_type": "markdown",
   "id": "6318bb56",
   "metadata": {},
   "source": [
    "# Function to Remove Stop Words from Tokens"
   ]
  },
  {
   "cell_type": "code",
   "execution_count": 49,
   "id": "3bbe97bb",
   "metadata": {},
   "outputs": [
    {
     "name": "stdout",
     "output_type": "stream",
     "text": [
      "['Let', 'defeat', 'SARS-CoV-2', 'together', 'www', 'cdc', 'gov']\n"
     ]
    }
   ],
   "source": [
    "# Defining a Function to Remove Stop Words\n",
    "def remove_stop(tokens):\n",
    "    return [t for t in tokens if t.lower() not in stopwords]\n",
    "#Just testing it\n",
    "cleantokens= remove_stop(testtokens)\n",
    "print(cleantokens)"
   ]
  },
  {
   "cell_type": "markdown",
   "id": "055442d9",
   "metadata": {},
   "source": [
    "# Text Processing Pipeline and Preparation Function"
   ]
  },
  {
   "cell_type": "code",
   "execution_count": 50,
   "id": "413761ee",
   "metadata": {},
   "outputs": [],
   "source": [
    "# Creating a Pipeline\n",
    "pipeline = [str.lower, tokenize, remove_stop]\n",
    "\n",
    "# Defining a Function to Run the Pipeline\n",
    "def prepare(text, pipeline):\n",
    "    tokens = text\n",
    "    for fun in pipeline:\n",
    "        tokens = fun(tokens)\n",
    "    return tokens"
   ]
  },
  {
   "cell_type": "markdown",
   "id": "49c2e95e",
   "metadata": {},
   "source": [
    "# Applying Text Processing Pipeline to DataFrame"
   ]
  },
  {
   "cell_type": "code",
   "execution_count": 81,
   "id": "ce9d20c9",
   "metadata": {},
   "outputs": [],
   "source": [
    "# Running the Pipeline\n",
    "df['tokens'] = df['location'].apply(prepare, pipeline=pipeline)"
   ]
  },
  {
   "cell_type": "markdown",
   "id": "6e98d808",
   "metadata": {},
   "source": [
    "# Creating Column for Number of Tokens\n"
   ]
  },
  {
   "cell_type": "code",
   "execution_count": 82,
   "id": "e005f2bb",
   "metadata": {},
   "outputs": [
    {
     "data": {
      "text/html": [
       "<div>\n",
       "<style scoped>\n",
       "    .dataframe tbody tr th:only-of-type {\n",
       "        vertical-align: middle;\n",
       "    }\n",
       "\n",
       "    .dataframe tbody tr th {\n",
       "        vertical-align: top;\n",
       "    }\n",
       "\n",
       "    .dataframe thead th {\n",
       "        text-align: right;\n",
       "    }\n",
       "</style>\n",
       "<table border=\"1\" class=\"dataframe\">\n",
       "  <thead>\n",
       "    <tr style=\"text-align: right;\">\n",
       "      <th></th>\n",
       "      <th>age</th>\n",
       "      <th>gender</th>\n",
       "      <th>time_spent</th>\n",
       "      <th>platform</th>\n",
       "      <th>interests</th>\n",
       "      <th>location</th>\n",
       "      <th>demographics</th>\n",
       "      <th>profession</th>\n",
       "      <th>income</th>\n",
       "      <th>indebt</th>\n",
       "      <th>isHomeOwner</th>\n",
       "      <th>Owns_Car</th>\n",
       "      <th>length</th>\n",
       "      <th>tokens</th>\n",
       "      <th>num_tokens</th>\n",
       "    </tr>\n",
       "  </thead>\n",
       "  <tbody>\n",
       "    <tr>\n",
       "      <th>995</th>\n",
       "      <td>22</td>\n",
       "      <td>female</td>\n",
       "      <td>8</td>\n",
       "      <td>Instagram</td>\n",
       "      <td>Lifestlye</td>\n",
       "      <td>United Kingdom</td>\n",
       "      <td>Rural</td>\n",
       "      <td>Marketer Manager</td>\n",
       "      <td>18536</td>\n",
       "      <td>False</td>\n",
       "      <td>True</td>\n",
       "      <td>False</td>\n",
       "      <td>14</td>\n",
       "      <td>[united, kingdom]</td>\n",
       "      <td>2</td>\n",
       "    </tr>\n",
       "    <tr>\n",
       "      <th>996</th>\n",
       "      <td>40</td>\n",
       "      <td>non-binary</td>\n",
       "      <td>6</td>\n",
       "      <td>YouTube</td>\n",
       "      <td>Travel</td>\n",
       "      <td>United Kingdom</td>\n",
       "      <td>Rural</td>\n",
       "      <td>Software Engineer</td>\n",
       "      <td>12711</td>\n",
       "      <td>True</td>\n",
       "      <td>False</td>\n",
       "      <td>False</td>\n",
       "      <td>14</td>\n",
       "      <td>[united, kingdom]</td>\n",
       "      <td>2</td>\n",
       "    </tr>\n",
       "    <tr>\n",
       "      <th>997</th>\n",
       "      <td>27</td>\n",
       "      <td>non-binary</td>\n",
       "      <td>5</td>\n",
       "      <td>YouTube</td>\n",
       "      <td>Travel</td>\n",
       "      <td>United Kingdom</td>\n",
       "      <td>Rural</td>\n",
       "      <td>Student</td>\n",
       "      <td>17595</td>\n",
       "      <td>True</td>\n",
       "      <td>False</td>\n",
       "      <td>True</td>\n",
       "      <td>14</td>\n",
       "      <td>[united, kingdom]</td>\n",
       "      <td>2</td>\n",
       "    </tr>\n",
       "    <tr>\n",
       "      <th>998</th>\n",
       "      <td>61</td>\n",
       "      <td>female</td>\n",
       "      <td>4</td>\n",
       "      <td>YouTube</td>\n",
       "      <td>Sports</td>\n",
       "      <td>Australia</td>\n",
       "      <td>Sub_Urban</td>\n",
       "      <td>Marketer Manager</td>\n",
       "      <td>16273</td>\n",
       "      <td>True</td>\n",
       "      <td>True</td>\n",
       "      <td>False</td>\n",
       "      <td>9</td>\n",
       "      <td>[australia]</td>\n",
       "      <td>1</td>\n",
       "    </tr>\n",
       "    <tr>\n",
       "      <th>999</th>\n",
       "      <td>19</td>\n",
       "      <td>female</td>\n",
       "      <td>8</td>\n",
       "      <td>YouTube</td>\n",
       "      <td>Travel</td>\n",
       "      <td>Australia</td>\n",
       "      <td>Rural</td>\n",
       "      <td>Student</td>\n",
       "      <td>16284</td>\n",
       "      <td>False</td>\n",
       "      <td>True</td>\n",
       "      <td>False</td>\n",
       "      <td>9</td>\n",
       "      <td>[australia]</td>\n",
       "      <td>1</td>\n",
       "    </tr>\n",
       "  </tbody>\n",
       "</table>\n",
       "</div>"
      ],
      "text/plain": [
       "     age      gender  time_spent   platform  interests        location  \\\n",
       "995   22      female           8  Instagram  Lifestlye  United Kingdom   \n",
       "996   40  non-binary           6    YouTube     Travel  United Kingdom   \n",
       "997   27  non-binary           5    YouTube     Travel  United Kingdom   \n",
       "998   61      female           4    YouTube     Sports       Australia   \n",
       "999   19      female           8    YouTube     Travel       Australia   \n",
       "\n",
       "    demographics         profession  income  indebt  isHomeOwner  Owns_Car  \\\n",
       "995        Rural   Marketer Manager   18536   False         True     False   \n",
       "996        Rural  Software Engineer   12711    True        False     False   \n",
       "997        Rural            Student   17595    True        False      True   \n",
       "998    Sub_Urban   Marketer Manager   16273    True         True     False   \n",
       "999        Rural            Student   16284   False         True     False   \n",
       "\n",
       "     length             tokens  num_tokens  \n",
       "995      14  [united, kingdom]           2  \n",
       "996      14  [united, kingdom]           2  \n",
       "997      14  [united, kingdom]           2  \n",
       "998       9        [australia]           1  \n",
       "999       9        [australia]           1  "
      ]
     },
     "execution_count": 82,
     "metadata": {},
     "output_type": "execute_result"
    }
   ],
   "source": [
    "#creating a New Column for the Number of Tokens\n",
    "df['num_tokens'] = df['tokens'].map(len)\n",
    "df.tail()"
   ]
  },
  {
   "cell_type": "markdown",
   "id": "33ea3dde",
   "metadata": {},
   "source": [
    "# Counting Token Occurrences with Counter"
   ]
  },
  {
   "cell_type": "code",
   "execution_count": 83,
   "id": "416975fe",
   "metadata": {},
   "outputs": [
    {
     "name": "stdout",
     "output_type": "stream",
     "text": [
      "Counter({'my': 3, 'cats': 2, 'She': 1, 'likes': 1, 'and': 1, 'like': 1, 'sofa': 1})\n"
     ]
    }
   ],
   "source": [
    "# importing a function Counter\n",
    "from collections import Counter\n",
    "\n",
    "tokens = tokenize(\"She likes my cats and my cats like my sofa.\")\n",
    "testcount= Counter(tokens)\n",
    "print(testcount)"
   ]
  },
  {
   "cell_type": "markdown",
   "id": "dcecece8",
   "metadata": {},
   "source": [
    "# Updating Token Count with Additional Data"
   ]
  },
  {
   "cell_type": "code",
   "execution_count": 54,
   "id": "83f05d9d",
   "metadata": {},
   "outputs": [
    {
     "name": "stdout",
     "output_type": "stream",
     "text": [
      "Counter({'my': 3, 'cats': 3, 'She': 2, 'likes': 2, 'and': 2, 'like': 1, 'sofa': 1, 'dogs': 1})\n"
     ]
    }
   ],
   "source": [
    "# Addition of New Data to the Current Count\n",
    "more_tokens = tokenize(\"She likes dogs and cats.\")\n",
    "testcount.update(more_tokens)\n",
    "print(testcount)"
   ]
  },
  {
   "cell_type": "markdown",
   "id": "6b2d4866",
   "metadata": {},
   "source": [
    "# Most Commonly Repeated Words in DataFrame's 'tokens' Column"
   ]
  },
  {
   "cell_type": "code",
   "execution_count": 84,
   "id": "f2d45908",
   "metadata": {},
   "outputs": [
    {
     "name": "stdout",
     "output_type": "stream",
     "text": [
      "[('united', 648), ('australia', 352), ('kingdom', 329), ('states', 319)]\n"
     ]
    }
   ],
   "source": [
    "# Printing the 5 Words Repeated the Most\n",
    "counter = Counter()\n",
    "df['tokens'].map(counter.update)\n",
    "print(counter.most_common(5))"
   ]
  },
  {
   "cell_type": "markdown",
   "id": "71313514",
   "metadata": {},
   "source": [
    "# Creating DataFrame for Token Frequency Analysis"
   ]
  },
  {
   "cell_type": "code",
   "execution_count": 85,
   "id": "e9877bca",
   "metadata": {},
   "outputs": [],
   "source": [
    "# Creating a New Data Frame for Frequency Analysis \n",
    "freq_df = pd.DataFrame.from_dict(counter, orient='index', columns=['freq'])\n",
    "freq_df = freq_df.query('freq >= 1')\n",
    "freq_df.index.name = 'token'"
   ]
  },
  {
   "cell_type": "markdown",
   "id": "3eac5ced",
   "metadata": {},
   "source": [
    "# Sorting DataFrame by Token Frequency\n"
   ]
  },
  {
   "cell_type": "code",
   "execution_count": 86,
   "id": "73e039b0",
   "metadata": {},
   "outputs": [
    {
     "data": {
      "text/html": [
       "<div>\n",
       "<style scoped>\n",
       "    .dataframe tbody tr th:only-of-type {\n",
       "        vertical-align: middle;\n",
       "    }\n",
       "\n",
       "    .dataframe tbody tr th {\n",
       "        vertical-align: top;\n",
       "    }\n",
       "\n",
       "    .dataframe thead th {\n",
       "        text-align: right;\n",
       "    }\n",
       "</style>\n",
       "<table border=\"1\" class=\"dataframe\">\n",
       "  <thead>\n",
       "    <tr style=\"text-align: right;\">\n",
       "      <th></th>\n",
       "      <th>freq</th>\n",
       "    </tr>\n",
       "    <tr>\n",
       "      <th>token</th>\n",
       "      <th></th>\n",
       "    </tr>\n",
       "  </thead>\n",
       "  <tbody>\n",
       "    <tr>\n",
       "      <th>united</th>\n",
       "      <td>648</td>\n",
       "    </tr>\n",
       "    <tr>\n",
       "      <th>australia</th>\n",
       "      <td>352</td>\n",
       "    </tr>\n",
       "    <tr>\n",
       "      <th>kingdom</th>\n",
       "      <td>329</td>\n",
       "    </tr>\n",
       "    <tr>\n",
       "      <th>states</th>\n",
       "      <td>319</td>\n",
       "    </tr>\n",
       "  </tbody>\n",
       "</table>\n",
       "</div>"
      ],
      "text/plain": [
       "           freq\n",
       "token          \n",
       "united      648\n",
       "australia   352\n",
       "kingdom     329\n",
       "states      319"
      ]
     },
     "execution_count": 86,
     "metadata": {},
     "output_type": "execute_result"
    }
   ],
   "source": [
    "# Sorting the freq_df based on Frequency\n",
    "freq_df = freq_df.sort_values('freq', ascending=False)\n",
    "freq_df.head(10)"
   ]
  },
  {
   "cell_type": "markdown",
   "id": "6980ae77",
   "metadata": {},
   "source": [
    "# Statistical Summary of Token Frequency"
   ]
  },
  {
   "cell_type": "code",
   "execution_count": 87,
   "id": "9f8dce85",
   "metadata": {},
   "outputs": [
    {
     "data": {
      "text/html": [
       "<div>\n",
       "<style scoped>\n",
       "    .dataframe tbody tr th:only-of-type {\n",
       "        vertical-align: middle;\n",
       "    }\n",
       "\n",
       "    .dataframe tbody tr th {\n",
       "        vertical-align: top;\n",
       "    }\n",
       "\n",
       "    .dataframe thead th {\n",
       "        text-align: right;\n",
       "    }\n",
       "</style>\n",
       "<table border=\"1\" class=\"dataframe\">\n",
       "  <thead>\n",
       "    <tr style=\"text-align: right;\">\n",
       "      <th></th>\n",
       "      <th>freq</th>\n",
       "    </tr>\n",
       "  </thead>\n",
       "  <tbody>\n",
       "    <tr>\n",
       "      <th>count</th>\n",
       "      <td>4.000000</td>\n",
       "    </tr>\n",
       "    <tr>\n",
       "      <th>mean</th>\n",
       "      <td>412.000000</td>\n",
       "    </tr>\n",
       "    <tr>\n",
       "      <th>std</th>\n",
       "      <td>157.938807</td>\n",
       "    </tr>\n",
       "    <tr>\n",
       "      <th>min</th>\n",
       "      <td>319.000000</td>\n",
       "    </tr>\n",
       "    <tr>\n",
       "      <th>25%</th>\n",
       "      <td>326.500000</td>\n",
       "    </tr>\n",
       "    <tr>\n",
       "      <th>50%</th>\n",
       "      <td>340.500000</td>\n",
       "    </tr>\n",
       "    <tr>\n",
       "      <th>75%</th>\n",
       "      <td>426.000000</td>\n",
       "    </tr>\n",
       "    <tr>\n",
       "      <th>max</th>\n",
       "      <td>648.000000</td>\n",
       "    </tr>\n",
       "  </tbody>\n",
       "</table>\n",
       "</div>"
      ],
      "text/plain": [
       "             freq\n",
       "count    4.000000\n",
       "mean   412.000000\n",
       "std    157.938807\n",
       "min    319.000000\n",
       "25%    326.500000\n",
       "50%    340.500000\n",
       "75%    426.000000\n",
       "max    648.000000"
      ]
     },
     "execution_count": 87,
     "metadata": {},
     "output_type": "execute_result"
    }
   ],
   "source": [
    "# Printing the Statistical Data of Frequency\n",
    "freq_df.describe()"
   ]
  },
  {
   "cell_type": "markdown",
   "id": "f1950d01",
   "metadata": {},
   "source": [
    "# Bar Graph: Top 15 Most Frequent Words"
   ]
  },
  {
   "cell_type": "code",
   "execution_count": 106,
   "id": "4605f909",
   "metadata": {},
   "outputs": [
    {
     "data": {
      "text/plain": [
       "[Text(0.5, 0, 'value'), Text(0, 0.5, 'location'), Text(0.5, 1.0, 'Top Words')]"
      ]
     },
     "execution_count": 106,
     "metadata": {},
     "output_type": "execute_result"
    },
    {
     "data": {
      "image/png": "[encoded data removed]",
      "text/plain": [
       "<Figure size 1000x600 with 1 Axes>"
      ]
     },
     "metadata": {},
     "output_type": "display_data"
    }
   ],
   "source": [
    "# Plotting a bar graph for most frequent words \n",
    "ax = freq_df.head(15).plot(kind='barh', width=0.95, figsize=(10,6))\n",
    "ax.invert_yaxis()\n",
    "ax.set(xlabel='value', ylabel='location', title='Top Words')"
   ]
  },
  {
   "cell_type": "markdown",
   "id": "16dd149d",
   "metadata": {},
   "source": [
    "# Generating Word Cloud for 'location' Data"
   ]
  },
  {
   "cell_type": "code",
   "execution_count": 92,
   "id": "f1ac852b",
   "metadata": {},
   "outputs": [
    {
     "data": {
      "image/png": "[encoded data removed]",
      "text/plain": [
       "<Figure size 1000x800 with 1 Axes>"
      ]
     },
     "metadata": {},
     "output_type": "display_data"
    }
   ],
   "source": [
    "from wordcloud import WordCloud\n",
    "import matplotlib.pyplot as plt\n",
    "\n",
    "# Concatenate all 'location' strings into one string\n",
    "text = ' '.join(df['location'].astype(str))\n",
    "\n",
    "# Generate word cloud\n",
    "wordcloud = WordCloud(width=800, height=400, background_color='black').generate(text)\n",
    "\n",
    "# Display the word cloud using matplotlib\n",
    "plt.figure(figsize=(10, 8))\n",
    "plt.imshow(wordcloud, interpolation='bilinear')\n",
    "plt.axis('off')\n",
    "plt.title('Word Cloud of location')\n",
    "plt.show()\n"
   ]
  },
  {
   "cell_type": "markdown",
   "id": "765b3a1a",
   "metadata": {},
   "source": [
    "# Importing Libraries and Downloading Dataset"
   ]
  },
  {
   "cell_type": "code",
   "execution_count": 93,
   "id": "a6a19666",
   "metadata": {},
   "outputs": [
    {
     "name": "stderr",
     "output_type": "stream",
     "text": [
      "[nltk_data] Downloading package opinion_lexicon to\n",
      "[nltk_data]     /Users/yathisha/nltk_data...\n",
      "[nltk_data]   Package opinion_lexicon is already up-to-date!\n"
     ]
    },
    {
     "data": {
      "text/plain": [
       "True"
      ]
     },
     "execution_count": 93,
     "metadata": {},
     "output_type": "execute_result"
    }
   ],
   "source": [
    "# Importing the preprocessing module from the scikit-learn library\n",
    "from sklearn import preprocessing\n",
    "# Importing the Natural Language Toolkit (NLTK)\n",
    "import nltk\n",
    "# Downloading the opinion lexicon dataset from NLTK\n",
    "nltk.download('opinion_lexicon')"
   ]
  },
  {
   "cell_type": "markdown",
   "id": "72ec9d2f",
   "metadata": {},
   "source": [
    "# Importing Opinion Lexicon and Tokenization Function"
   ]
  },
  {
   "cell_type": "code",
   "execution_count": 94,
   "id": "1614290d",
   "metadata": {},
   "outputs": [],
   "source": [
    "# Importing the opinion_lexicon dataset from the NLTK corpus module\n",
    "from nltk.corpus import opinion_lexicon\n",
    "# Importing the word_tokenize function from the NLTK tokenize module\n",
    "from nltk.tokenize import word_tokenize"
   ]
  },
  {
   "cell_type": "markdown",
   "id": "5e462749",
   "metadata": {},
   "source": [
    "# Exploring Opinion Lexicon Dataset"
   ]
  },
  {
   "cell_type": "code",
   "execution_count": 95,
   "id": "43b95a18",
   "metadata": {},
   "outputs": [
    {
     "name": "stdout",
     "output_type": "stream",
     "text": [
      "Total number of words in opinion lexicon 6789\n",
      "Examples of positive words in opinion lexicon ['a+', 'abound', 'abounds', 'abundance', 'abundant', 'accessable', 'accessible', 'acclaim', 'acclaimed', 'acclamation']\n",
      "Examples of negative words in opinion lexicon ['2-faced', '2-faces', 'abnormal', 'abolish', 'abominable', 'abominably', 'abominate', 'abomination', 'abort', 'aborted']\n"
     ]
    }
   ],
   "source": [
    "# Printing the total number of words in the opinion_lexicon dataset\n",
    "print('Total number of words in opinion lexicon', len(opinion_lexicon.words()))\n",
    "# Printing examples of positive words in the opinion_lexicon dataset\n",
    "print('Examples of positive words in opinion lexicon',opinion_lexicon.positive()[:10])\n",
    "# Printing examples of negative words in the opinion_lexicon dataset\n",
    "print('Examples of negative words in opinion lexicon',opinion_lexicon.negative()[:10])"
   ]
  },
  {
   "cell_type": "markdown",
   "id": "dfb8136b",
   "metadata": {},
   "source": [
    "# Downloading Tokenizer and Preparing for Sentiment Analysis"
   ]
  },
  {
   "cell_type": "code",
   "execution_count": 96,
   "id": "c69ec540",
   "metadata": {},
   "outputs": [
    {
     "name": "stderr",
     "output_type": "stream",
     "text": [
      "[nltk_data] Downloading package punkt to /Users/yathisha/nltk_data...\n",
      "[nltk_data]   Package punkt is already up-to-date!\n"
     ]
    }
   ],
   "source": [
    "# Downloading the 'punkt' tokenizer from NLTK, which is required for word tokenization\n",
    "nltk.download('punkt')\n",
    "# Renaming the column 'reviewText' to 'text' for consistency and clarity\n",
    "df.rename(columns={\"reviewText\": \"text\"}, inplace=True)\n",
    "# Assigning positive and negative scores for sentiment analysis\n",
    "pos_score = 1\n",
    "neg_score = -1\n",
    "# Creating an empty dictionary to store word scores for sentiment analysis\n",
    "word_dict = {}"
   ]
  },
  {
   "cell_type": "markdown",
   "id": "4c4d3207",
   "metadata": {},
   "source": [
    "# Adding Positive Words to Sentiment Dictionary"
   ]
  },
  {
   "cell_type": "code",
   "execution_count": 97,
   "id": "0127c436",
   "metadata": {},
   "outputs": [],
   "source": [
    "# Iterating through each positive word in the opinion lexicon and adding it to the word dictionary\n",
    "for word in opinion_lexicon.positive():\n",
    "    word_dict[word] = pos_score"
   ]
  },
  {
   "cell_type": "markdown",
   "id": "f72aa680",
   "metadata": {},
   "source": [
    "# Adding Negative Words to Sentiment Dictionary"
   ]
  },
  {
   "cell_type": "code",
   "execution_count": 98,
   "id": "3b90b3ea",
   "metadata": {},
   "outputs": [],
   "source": [
    "# Iterating through each negative word in the opinion lexicon and adding it to the word dictionary\n",
    "for word in opinion_lexicon.negative():\n",
    "    word_dict[word] = neg_score"
   ]
  },
  {
   "cell_type": "markdown",
   "id": "a5c91a38",
   "metadata": {},
   "source": [
    "# Function for Calculating Bing Liu's Lexicon Sentiment Score"
   ]
  },
  {
   "cell_type": "code",
   "execution_count": 99,
   "id": "c29e0934",
   "metadata": {},
   "outputs": [],
   "source": [
    "# Define a function to calculate the sentiment score of a given text using Bing Liu's lexicon.\n",
    "def bing_liu_score(text):\n",
    "    sentiment_score = 0 # Initialize the sentiment score to zero.\n",
    "    bag_of_words = word_tokenize(text.lower()) # Tokenize the text into individual words and convert to lowercase.\n",
    "# Iterate over each word in the bag of words.\n",
    "    for word in bag_of_words:\n",
    "        # Check if the word exists in the word dictionary.\n",
    "        if word in word_dict:\n",
    "            sentiment_score += word_dict[word] # Add the sentiment score of the word to the overall sentiment score.\n",
    "            return sentiment_score # Return the final sentiment score of the text."
   ]
  },
  {
   "cell_type": "markdown",
   "id": "5461f137",
   "metadata": {},
   "source": [
    "# Filling Missing Values and Assigning Bing Liu's Scores"
   ]
  },
  {
   "cell_type": "code",
   "execution_count": 101,
   "id": "4635d536",
   "metadata": {},
   "outputs": [],
   "source": [
    "# Fill missing values in the 'location' column with 'Australia'\n",
    "df['location'].fillna('Australia', inplace=True)\n",
    "\n",
    "# Assuming you have a function called bing_liu_score\n",
    "def bing_liu_score(location):\n",
    "    # Implement your logic here to compute the Bing Liu score based on the location\n",
    "    # For demonstration, let's assume a constant score for 'Australia'\n",
    "    if location == 'Australia':\n",
    "        return 5\n",
    "    else:\n",
    "        return 0  # Fill with appropriate score for other locations\n",
    "\n",
    "# Apply the function to create the 'Bing_Liu_Score' column\n",
    "df['Bing_Liu_Score'] = df['location'].apply(bing_liu_score)\n"
   ]
  },
  {
   "cell_type": "markdown",
   "id": "a78b3b39",
   "metadata": {},
   "source": [
    "# Displaying Specific Columns for Bing Liu's Scores"
   ]
  },
  {
   "cell_type": "code",
   "execution_count": 102,
   "id": "4d077333",
   "metadata": {},
   "outputs": [
    {
     "data": {
      "text/html": [
       "<div>\n",
       "<style scoped>\n",
       "    .dataframe tbody tr th:only-of-type {\n",
       "        vertical-align: middle;\n",
       "    }\n",
       "\n",
       "    .dataframe tbody tr th {\n",
       "        vertical-align: top;\n",
       "    }\n",
       "\n",
       "    .dataframe thead th {\n",
       "        text-align: right;\n",
       "    }\n",
       "</style>\n",
       "<table border=\"1\" class=\"dataframe\">\n",
       "  <thead>\n",
       "    <tr style=\"text-align: right;\">\n",
       "      <th></th>\n",
       "      <th>age</th>\n",
       "      <th>location</th>\n",
       "      <th>Bing_Liu_Score</th>\n",
       "    </tr>\n",
       "  </thead>\n",
       "  <tbody>\n",
       "    <tr>\n",
       "      <th>0</th>\n",
       "      <td>56</td>\n",
       "      <td>United Kingdom</td>\n",
       "      <td>0</td>\n",
       "    </tr>\n",
       "    <tr>\n",
       "      <th>1</th>\n",
       "      <td>46</td>\n",
       "      <td>United Kingdom</td>\n",
       "      <td>0</td>\n",
       "    </tr>\n",
       "    <tr>\n",
       "      <th>2</th>\n",
       "      <td>32</td>\n",
       "      <td>Australia</td>\n",
       "      <td>5</td>\n",
       "    </tr>\n",
       "    <tr>\n",
       "      <th>3</th>\n",
       "      <td>60</td>\n",
       "      <td>United Kingdom</td>\n",
       "      <td>0</td>\n",
       "    </tr>\n",
       "    <tr>\n",
       "      <th>4</th>\n",
       "      <td>25</td>\n",
       "      <td>Australia</td>\n",
       "      <td>5</td>\n",
       "    </tr>\n",
       "    <tr>\n",
       "      <th>5</th>\n",
       "      <td>38</td>\n",
       "      <td>United States</td>\n",
       "      <td>0</td>\n",
       "    </tr>\n",
       "    <tr>\n",
       "      <th>6</th>\n",
       "      <td>56</td>\n",
       "      <td>United States</td>\n",
       "      <td>0</td>\n",
       "    </tr>\n",
       "    <tr>\n",
       "      <th>7</th>\n",
       "      <td>36</td>\n",
       "      <td>Australia</td>\n",
       "      <td>5</td>\n",
       "    </tr>\n",
       "    <tr>\n",
       "      <th>8</th>\n",
       "      <td>40</td>\n",
       "      <td>Australia</td>\n",
       "      <td>5</td>\n",
       "    </tr>\n",
       "    <tr>\n",
       "      <th>9</th>\n",
       "      <td>28</td>\n",
       "      <td>Australia</td>\n",
       "      <td>5</td>\n",
       "    </tr>\n",
       "  </tbody>\n",
       "</table>\n",
       "</div>"
      ],
      "text/plain": [
       "   age        location  Bing_Liu_Score\n",
       "0   56  United Kingdom               0\n",
       "1   46  United Kingdom               0\n",
       "2   32       Australia               5\n",
       "3   60  United Kingdom               0\n",
       "4   25       Australia               5\n",
       "5   38   United States               0\n",
       "6   56   United States               0\n",
       "7   36       Australia               5\n",
       "8   40       Australia               5\n",
       "9   28       Australia               5"
      ]
     },
     "execution_count": 102,
     "metadata": {},
     "output_type": "execute_result"
    }
   ],
   "source": [
    "df[['age',\"location\", 'Bing_Liu_Score']].head(10) # Selecting specific columns ('age', 'location', 'Bing_Liu_Score') from the DataFrame and displaying the first 10 rows."
   ]
  },
  {
   "cell_type": "markdown",
   "id": "b32bff3b",
   "metadata": {},
   "source": [
    "# Grouping by Age and Calculating Mean Bing Liu Scores"
   ]
  },
  {
   "cell_type": "code",
   "execution_count": 103,
   "id": "7000886e",
   "metadata": {},
   "outputs": [
    {
     "data": {
      "text/html": [
       "<div>\n",
       "<style scoped>\n",
       "    .dataframe tbody tr th:only-of-type {\n",
       "        vertical-align: middle;\n",
       "    }\n",
       "\n",
       "    .dataframe tbody tr th {\n",
       "        vertical-align: top;\n",
       "    }\n",
       "\n",
       "    .dataframe thead th {\n",
       "        text-align: right;\n",
       "    }\n",
       "</style>\n",
       "<table border=\"1\" class=\"dataframe\">\n",
       "  <thead>\n",
       "    <tr style=\"text-align: right;\">\n",
       "      <th></th>\n",
       "      <th>Bing_Liu_Score</th>\n",
       "    </tr>\n",
       "    <tr>\n",
       "      <th>age</th>\n",
       "      <th></th>\n",
       "    </tr>\n",
       "  </thead>\n",
       "  <tbody>\n",
       "    <tr>\n",
       "      <th>18</th>\n",
       "      <td>1.200000</td>\n",
       "    </tr>\n",
       "    <tr>\n",
       "      <th>19</th>\n",
       "      <td>1.875000</td>\n",
       "    </tr>\n",
       "    <tr>\n",
       "      <th>20</th>\n",
       "      <td>1.458333</td>\n",
       "    </tr>\n",
       "    <tr>\n",
       "      <th>21</th>\n",
       "      <td>2.105263</td>\n",
       "    </tr>\n",
       "    <tr>\n",
       "      <th>22</th>\n",
       "      <td>1.600000</td>\n",
       "    </tr>\n",
       "    <tr>\n",
       "      <th>23</th>\n",
       "      <td>2.608696</td>\n",
       "    </tr>\n",
       "    <tr>\n",
       "      <th>24</th>\n",
       "      <td>1.785714</td>\n",
       "    </tr>\n",
       "    <tr>\n",
       "      <th>25</th>\n",
       "      <td>2.173913</td>\n",
       "    </tr>\n",
       "    <tr>\n",
       "      <th>26</th>\n",
       "      <td>1.111111</td>\n",
       "    </tr>\n",
       "    <tr>\n",
       "      <th>27</th>\n",
       "      <td>1.388889</td>\n",
       "    </tr>\n",
       "    <tr>\n",
       "      <th>28</th>\n",
       "      <td>2.500000</td>\n",
       "    </tr>\n",
       "    <tr>\n",
       "      <th>29</th>\n",
       "      <td>0.681818</td>\n",
       "    </tr>\n",
       "    <tr>\n",
       "      <th>30</th>\n",
       "      <td>2.222222</td>\n",
       "    </tr>\n",
       "    <tr>\n",
       "      <th>31</th>\n",
       "      <td>2.631579</td>\n",
       "    </tr>\n",
       "    <tr>\n",
       "      <th>32</th>\n",
       "      <td>1.666667</td>\n",
       "    </tr>\n",
       "    <tr>\n",
       "      <th>33</th>\n",
       "      <td>1.904762</td>\n",
       "    </tr>\n",
       "    <tr>\n",
       "      <th>34</th>\n",
       "      <td>1.363636</td>\n",
       "    </tr>\n",
       "    <tr>\n",
       "      <th>35</th>\n",
       "      <td>2.500000</td>\n",
       "    </tr>\n",
       "    <tr>\n",
       "      <th>36</th>\n",
       "      <td>2.250000</td>\n",
       "    </tr>\n",
       "    <tr>\n",
       "      <th>37</th>\n",
       "      <td>2.500000</td>\n",
       "    </tr>\n",
       "    <tr>\n",
       "      <th>38</th>\n",
       "      <td>2.368421</td>\n",
       "    </tr>\n",
       "    <tr>\n",
       "      <th>39</th>\n",
       "      <td>2.045455</td>\n",
       "    </tr>\n",
       "    <tr>\n",
       "      <th>40</th>\n",
       "      <td>1.458333</td>\n",
       "    </tr>\n",
       "    <tr>\n",
       "      <th>41</th>\n",
       "      <td>0.800000</td>\n",
       "    </tr>\n",
       "    <tr>\n",
       "      <th>42</th>\n",
       "      <td>2.708333</td>\n",
       "    </tr>\n",
       "    <tr>\n",
       "      <th>43</th>\n",
       "      <td>1.969697</td>\n",
       "    </tr>\n",
       "    <tr>\n",
       "      <th>44</th>\n",
       "      <td>0.937500</td>\n",
       "    </tr>\n",
       "    <tr>\n",
       "      <th>45</th>\n",
       "      <td>1.000000</td>\n",
       "    </tr>\n",
       "    <tr>\n",
       "      <th>46</th>\n",
       "      <td>1.315789</td>\n",
       "    </tr>\n",
       "    <tr>\n",
       "      <th>47</th>\n",
       "      <td>1.904762</td>\n",
       "    </tr>\n",
       "    <tr>\n",
       "      <th>48</th>\n",
       "      <td>2.812500</td>\n",
       "    </tr>\n",
       "    <tr>\n",
       "      <th>49</th>\n",
       "      <td>1.200000</td>\n",
       "    </tr>\n",
       "    <tr>\n",
       "      <th>50</th>\n",
       "      <td>1.500000</td>\n",
       "    </tr>\n",
       "    <tr>\n",
       "      <th>51</th>\n",
       "      <td>1.944444</td>\n",
       "    </tr>\n",
       "    <tr>\n",
       "      <th>52</th>\n",
       "      <td>1.607143</td>\n",
       "    </tr>\n",
       "    <tr>\n",
       "      <th>53</th>\n",
       "      <td>1.956522</td>\n",
       "    </tr>\n",
       "    <tr>\n",
       "      <th>54</th>\n",
       "      <td>1.481481</td>\n",
       "    </tr>\n",
       "    <tr>\n",
       "      <th>55</th>\n",
       "      <td>2.187500</td>\n",
       "    </tr>\n",
       "    <tr>\n",
       "      <th>56</th>\n",
       "      <td>1.200000</td>\n",
       "    </tr>\n",
       "    <tr>\n",
       "      <th>57</th>\n",
       "      <td>1.176471</td>\n",
       "    </tr>\n",
       "    <tr>\n",
       "      <th>58</th>\n",
       "      <td>1.944444</td>\n",
       "    </tr>\n",
       "    <tr>\n",
       "      <th>59</th>\n",
       "      <td>2.058824</td>\n",
       "    </tr>\n",
       "    <tr>\n",
       "      <th>60</th>\n",
       "      <td>1.666667</td>\n",
       "    </tr>\n",
       "    <tr>\n",
       "      <th>61</th>\n",
       "      <td>2.391304</td>\n",
       "    </tr>\n",
       "    <tr>\n",
       "      <th>62</th>\n",
       "      <td>2.000000</td>\n",
       "    </tr>\n",
       "    <tr>\n",
       "      <th>63</th>\n",
       "      <td>2.307692</td>\n",
       "    </tr>\n",
       "    <tr>\n",
       "      <th>64</th>\n",
       "      <td>0.925926</td>\n",
       "    </tr>\n",
       "  </tbody>\n",
       "</table>\n",
       "</div>"
      ],
      "text/plain": [
       "     Bing_Liu_Score\n",
       "age                \n",
       "18         1.200000\n",
       "19         1.875000\n",
       "20         1.458333\n",
       "21         2.105263\n",
       "22         1.600000\n",
       "23         2.608696\n",
       "24         1.785714\n",
       "25         2.173913\n",
       "26         1.111111\n",
       "27         1.388889\n",
       "28         2.500000\n",
       "29         0.681818\n",
       "30         2.222222\n",
       "31         2.631579\n",
       "32         1.666667\n",
       "33         1.904762\n",
       "34         1.363636\n",
       "35         2.500000\n",
       "36         2.250000\n",
       "37         2.500000\n",
       "38         2.368421\n",
       "39         2.045455\n",
       "40         1.458333\n",
       "41         0.800000\n",
       "42         2.708333\n",
       "43         1.969697\n",
       "44         0.937500\n",
       "45         1.000000\n",
       "46         1.315789\n",
       "47         1.904762\n",
       "48         2.812500\n",
       "49         1.200000\n",
       "50         1.500000\n",
       "51         1.944444\n",
       "52         1.607143\n",
       "53         1.956522\n",
       "54         1.481481\n",
       "55         2.187500\n",
       "56         1.200000\n",
       "57         1.176471\n",
       "58         1.944444\n",
       "59         2.058824\n",
       "60         1.666667\n",
       "61         2.391304\n",
       "62         2.000000\n",
       "63         2.307692\n",
       "64         0.925926"
      ]
     },
     "execution_count": 103,
     "metadata": {},
     "output_type": "execute_result"
    }
   ],
   "source": [
    "# Grouping the DataFrame by the 'age' column and calculating the mean of the 'Bing_Liu_Score' for each age group.\n",
    "df.groupby('age').agg({'Bing_Liu_Score':'mean'})"
   ]
  }
 ],
 "metadata": {
  "kernelspec": {
   "display_name": "Python 3 (ipykernel)",
   "language": "python",
   "name": "python3"
  },
  "language_info": {
   "codemirror_mode": {
    "name": "ipython",
    "version": 3
   },
   "file_extension": ".py",
   "mimetype": "text/x-python",
   "name": "python",
   "nbconvert_exporter": "python",
   "pygments_lexer": "ipython3",
   "version": "3.11.5"
  }
 },
 "nbformat": 4,
 "nbformat_minor": 5
}
