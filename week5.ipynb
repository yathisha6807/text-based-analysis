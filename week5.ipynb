{
 "cells": [
  {
   "cell_type": "markdown",
   "id": "bed35ecd",
   "metadata": {},
   "source": [
    "# Importing Pandas Library"
   ]
  },
  {
   "cell_type": "code",
   "execution_count": 1,
   "id": "c664a3ff",
   "metadata": {},
   "outputs": [],
   "source": [
    "import pandas as pd"
   ]
  },
  {
   "cell_type": "markdown",
   "id": "147a621a",
   "metadata": {},
   "source": [
    "# Reading JSON Data into Pandas DataFrame"
   ]
  },
  {
   "cell_type": "code",
   "execution_count": 2,
   "id": "bdf11277",
   "metadata": {},
   "outputs": [
    {
     "data": {
      "text/html": [
       "<div>\n",
       "<style scoped>\n",
       "    .dataframe tbody tr th:only-of-type {\n",
       "        vertical-align: middle;\n",
       "    }\n",
       "\n",
       "    .dataframe tbody tr th {\n",
       "        vertical-align: top;\n",
       "    }\n",
       "\n",
       "    .dataframe thead th {\n",
       "        text-align: right;\n",
       "    }\n",
       "</style>\n",
       "<table border=\"1\" class=\"dataframe\">\n",
       "  <thead>\n",
       "    <tr style=\"text-align: right;\">\n",
       "      <th></th>\n",
       "      <th>overall</th>\n",
       "      <th>verified</th>\n",
       "      <th>reviewTime</th>\n",
       "      <th>reviewerID</th>\n",
       "      <th>asin</th>\n",
       "      <th>style</th>\n",
       "      <th>reviewerName</th>\n",
       "      <th>reviewText</th>\n",
       "      <th>summary</th>\n",
       "      <th>unixReviewTime</th>\n",
       "      <th>vote</th>\n",
       "      <th>image</th>\n",
       "    </tr>\n",
       "  </thead>\n",
       "  <tbody>\n",
       "    <tr>\n",
       "      <th>259033</th>\n",
       "      <td>4</td>\n",
       "      <td>True</td>\n",
       "      <td>06 20, 2017</td>\n",
       "      <td>A25POGOY357LSX</td>\n",
       "      <td>B007QNX58S</td>\n",
       "      <td>{'Size:': ' 6-Pack', 'Color:': ' #161128-28607...</td>\n",
       "      <td>Annastasia Sundance</td>\n",
       "      <td>although it looks gold it is more mustard</td>\n",
       "      <td>Four Stars</td>\n",
       "      <td>1497916800</td>\n",
       "      <td>NaN</td>\n",
       "      <td>NaN</td>\n",
       "    </tr>\n",
       "    <tr>\n",
       "      <th>283825</th>\n",
       "      <td>5</td>\n",
       "      <td>True</td>\n",
       "      <td>01 24, 2017</td>\n",
       "      <td>A1EG6UXDXO51JR</td>\n",
       "      <td>B00BD94S0U</td>\n",
       "      <td>NaN</td>\n",
       "      <td>melissa</td>\n",
       "      <td>Beautiful colors!!  Speedy delivery.</td>\n",
       "      <td>Beautiful colors</td>\n",
       "      <td>1485216000</td>\n",
       "      <td>NaN</td>\n",
       "      <td>NaN</td>\n",
       "    </tr>\n",
       "    <tr>\n",
       "      <th>105334</th>\n",
       "      <td>5</td>\n",
       "      <td>True</td>\n",
       "      <td>06 11, 2015</td>\n",
       "      <td>A2CK06WOBHLZ4Y</td>\n",
       "      <td>B000YZCSHE</td>\n",
       "      <td>NaN</td>\n",
       "      <td>Tweety</td>\n",
       "      <td>I needed a rack to hold my threads, this seems...</td>\n",
       "      <td>nice and sturdy</td>\n",
       "      <td>1433980800</td>\n",
       "      <td>NaN</td>\n",
       "      <td>NaN</td>\n",
       "    </tr>\n",
       "    <tr>\n",
       "      <th>247314</th>\n",
       "      <td>2</td>\n",
       "      <td>True</td>\n",
       "      <td>10 30, 2016</td>\n",
       "      <td>A1XZIMAWFM90SO</td>\n",
       "      <td>B006LVMJ42</td>\n",
       "      <td>NaN</td>\n",
       "      <td>Lucky Simi</td>\n",
       "      <td>It does not fit on an easel. The opening is to...</td>\n",
       "      <td>too narrow</td>\n",
       "      <td>1477785600</td>\n",
       "      <td>NaN</td>\n",
       "      <td>NaN</td>\n",
       "    </tr>\n",
       "    <tr>\n",
       "      <th>442838</th>\n",
       "      <td>1</td>\n",
       "      <td>True</td>\n",
       "      <td>07 14, 2017</td>\n",
       "      <td>A9IVBG9H9KG8N</td>\n",
       "      <td>B004W8T0NE</td>\n",
       "      <td>NaN</td>\n",
       "      <td>J. Kellee Inc.</td>\n",
       "      <td>I purchased these and they are extremely thin ...</td>\n",
       "      <td>Don't buy unless you are 100% sure you will lo...</td>\n",
       "      <td>1499990400</td>\n",
       "      <td>4</td>\n",
       "      <td>NaN</td>\n",
       "    </tr>\n",
       "    <tr>\n",
       "      <th>255830</th>\n",
       "      <td>5</td>\n",
       "      <td>True</td>\n",
       "      <td>10 19, 2015</td>\n",
       "      <td>A2FHNO00JOVUNY</td>\n",
       "      <td>B007J5YBTK</td>\n",
       "      <td>{'Size:': ' Set', 'Color:': ' Set of 12 - 10 M...</td>\n",
       "      <td>Sakura</td>\n",
       "      <td>Beautiful colors!</td>\n",
       "      <td>Great product.</td>\n",
       "      <td>1445212800</td>\n",
       "      <td>NaN</td>\n",
       "      <td>NaN</td>\n",
       "    </tr>\n",
       "    <tr>\n",
       "      <th>311964</th>\n",
       "      <td>5</td>\n",
       "      <td>False</td>\n",
       "      <td>08 7, 2016</td>\n",
       "      <td>A2BGXSC8SKALFZ</td>\n",
       "      <td>B00F6P7CT6</td>\n",
       "      <td>{'Color:': ' 1'}</td>\n",
       "      <td>Vangie</td>\n",
       "      <td>I will be honest when I say that I was not exp...</td>\n",
       "      <td>NaN</td>\n",
       "      <td>1470528000</td>\n",
       "      <td>NaN</td>\n",
       "      <td>NaN</td>\n",
       "    </tr>\n",
       "    <tr>\n",
       "      <th>195683</th>\n",
       "      <td>5</td>\n",
       "      <td>True</td>\n",
       "      <td>08 8, 2015</td>\n",
       "      <td>A24K78UQ5HES5W</td>\n",
       "      <td>B003IIN7HO</td>\n",
       "      <td>NaN</td>\n",
       "      <td>Pam Y</td>\n",
       "      <td>Directions were clear and easy to follow. Inst...</td>\n",
       "      <td>5 star</td>\n",
       "      <td>1438992000</td>\n",
       "      <td>NaN</td>\n",
       "      <td>NaN</td>\n",
       "    </tr>\n",
       "    <tr>\n",
       "      <th>441743</th>\n",
       "      <td>3</td>\n",
       "      <td>True</td>\n",
       "      <td>12 6, 2017</td>\n",
       "      <td>A3N5UEULKGHNBC</td>\n",
       "      <td>B004KZ23XS</td>\n",
       "      <td>NaN</td>\n",
       "      <td>Suni62</td>\n",
       "      <td>I didn't really find a difference at all using...</td>\n",
       "      <td>Three Stars</td>\n",
       "      <td>1512518400</td>\n",
       "      <td>NaN</td>\n",
       "      <td>NaN</td>\n",
       "    </tr>\n",
       "    <tr>\n",
       "      <th>201034</th>\n",
       "      <td>5</td>\n",
       "      <td>True</td>\n",
       "      <td>03 15, 2018</td>\n",
       "      <td>A3CTCKITMAH8HX</td>\n",
       "      <td>B003YIXDKE</td>\n",
       "      <td>{'Color:': ' White'}</td>\n",
       "      <td>Native New Yorker</td>\n",
       "      <td>Its wonderful I think one of the best things a...</td>\n",
       "      <td>I cant find anything wrong with this for my Wa...</td>\n",
       "      <td>1521072000</td>\n",
       "      <td>NaN</td>\n",
       "      <td>NaN</td>\n",
       "    </tr>\n",
       "  </tbody>\n",
       "</table>\n",
       "</div>"
      ],
      "text/plain": [
       "        overall  verified   reviewTime      reviewerID        asin  \\\n",
       "259033        4      True  06 20, 2017  A25POGOY357LSX  B007QNX58S   \n",
       "283825        5      True  01 24, 2017  A1EG6UXDXO51JR  B00BD94S0U   \n",
       "105334        5      True  06 11, 2015  A2CK06WOBHLZ4Y  B000YZCSHE   \n",
       "247314        2      True  10 30, 2016  A1XZIMAWFM90SO  B006LVMJ42   \n",
       "442838        1      True  07 14, 2017   A9IVBG9H9KG8N  B004W8T0NE   \n",
       "255830        5      True  10 19, 2015  A2FHNO00JOVUNY  B007J5YBTK   \n",
       "311964        5     False   08 7, 2016  A2BGXSC8SKALFZ  B00F6P7CT6   \n",
       "195683        5      True   08 8, 2015  A24K78UQ5HES5W  B003IIN7HO   \n",
       "441743        3      True   12 6, 2017  A3N5UEULKGHNBC  B004KZ23XS   \n",
       "201034        5      True  03 15, 2018  A3CTCKITMAH8HX  B003YIXDKE   \n",
       "\n",
       "                                                    style  \\\n",
       "259033  {'Size:': ' 6-Pack', 'Color:': ' #161128-28607...   \n",
       "283825                                                NaN   \n",
       "105334                                                NaN   \n",
       "247314                                                NaN   \n",
       "442838                                                NaN   \n",
       "255830  {'Size:': ' Set', 'Color:': ' Set of 12 - 10 M...   \n",
       "311964                                   {'Color:': ' 1'}   \n",
       "195683                                                NaN   \n",
       "441743                                                NaN   \n",
       "201034                               {'Color:': ' White'}   \n",
       "\n",
       "               reviewerName  \\\n",
       "259033  Annastasia Sundance   \n",
       "283825              melissa   \n",
       "105334               Tweety   \n",
       "247314           Lucky Simi   \n",
       "442838       J. Kellee Inc.   \n",
       "255830               Sakura   \n",
       "311964               Vangie   \n",
       "195683                Pam Y   \n",
       "441743               Suni62   \n",
       "201034   Native New Yorker    \n",
       "\n",
       "                                               reviewText  \\\n",
       "259033          although it looks gold it is more mustard   \n",
       "283825               Beautiful colors!!  Speedy delivery.   \n",
       "105334  I needed a rack to hold my threads, this seems...   \n",
       "247314  It does not fit on an easel. The opening is to...   \n",
       "442838  I purchased these and they are extremely thin ...   \n",
       "255830                                  Beautiful colors!   \n",
       "311964  I will be honest when I say that I was not exp...   \n",
       "195683  Directions were clear and easy to follow. Inst...   \n",
       "441743  I didn't really find a difference at all using...   \n",
       "201034  Its wonderful I think one of the best things a...   \n",
       "\n",
       "                                                  summary  unixReviewTime  \\\n",
       "259033                                         Four Stars      1497916800   \n",
       "283825                                   Beautiful colors      1485216000   \n",
       "105334                                    nice and sturdy      1433980800   \n",
       "247314                                         too narrow      1477785600   \n",
       "442838  Don't buy unless you are 100% sure you will lo...      1499990400   \n",
       "255830                                     Great product.      1445212800   \n",
       "311964                                                NaN      1470528000   \n",
       "195683                                             5 star      1438992000   \n",
       "441743                                        Three Stars      1512518400   \n",
       "201034  I cant find anything wrong with this for my Wa...      1521072000   \n",
       "\n",
       "       vote image  \n",
       "259033  NaN   NaN  \n",
       "283825  NaN   NaN  \n",
       "105334  NaN   NaN  \n",
       "247314  NaN   NaN  \n",
       "442838    4   NaN  \n",
       "255830  NaN   NaN  \n",
       "311964  NaN   NaN  \n",
       "195683  NaN   NaN  \n",
       "441743  NaN   NaN  \n",
       "201034  NaN   NaN  "
      ]
     },
     "execution_count": 2,
     "metadata": {},
     "output_type": "execute_result"
    }
   ],
   "source": [
    "df = pd.read_json( '/Users/yathisha/Downloads/Arts_Crafts_and_Sewing_5.json',lines=True) # Reading JSON Data into a Pandas DataFrame\n",
    "df.sample(10)# Displaying a sample of 10 rows from the DataFrame"
   ]
  },
  {
   "cell_type": "markdown",
   "id": "53cd0aea",
   "metadata": {},
   "source": [
    "# Importing scikit-learn's Preprocessing Module:\n"
   ]
  },
  {
   "cell_type": "code",
   "execution_count": 3,
   "id": "abd0c3d5",
   "metadata": {},
   "outputs": [],
   "source": [
    "from sklearn import preprocessing  # Importing preprocessing module from scikit-learn library"
   ]
  },
  {
   "cell_type": "markdown",
   "id": "85419252",
   "metadata": {},
   "source": [
    "# Importing NLTK Library"
   ]
  },
  {
   "cell_type": "code",
   "execution_count": 4,
   "id": "963a27cc",
   "metadata": {},
   "outputs": [],
   "source": [
    "import nltk  # Importing nltk library for natural language processing tasks"
   ]
  },
  {
   "cell_type": "markdown",
   "id": "1dc0d41e",
   "metadata": {},
   "source": [
    "# Importing Components from NLTK"
   ]
  },
  {
   "cell_type": "code",
   "execution_count": 5,
   "id": "571e1dd9",
   "metadata": {},
   "outputs": [
    {
     "name": "stderr",
     "output_type": "stream",
     "text": [
      "[nltk_data] Downloading package opinion_lexicon to\n",
      "[nltk_data]     /Users/yathisha/nltk_data...\n",
      "[nltk_data]   Package opinion_lexicon is already up-to-date!\n"
     ]
    }
   ],
   "source": [
    "nltk.download('opinion_lexicon')  # Downloading the opinion lexicon dataset\n",
    "from nltk.corpus import opinion_lexicon  # Importing opinion_lexicon from nltk.corpus\n",
    "from nltk.tokenize import word_tokenize  # Importing word_tokenize from nltk.tokenize"
   ]
  },
  {
   "cell_type": "markdown",
   "id": "fac80892",
   "metadata": {},
   "source": [
    "# Counting Words in Opinion Lexicon"
   ]
  },
  {
   "cell_type": "code",
   "execution_count": 6,
   "id": "23748b0f",
   "metadata": {},
   "outputs": [
    {
     "name": "stdout",
     "output_type": "stream",
     "text": [
      "Total number of words in opinion lexicon 6789\n"
     ]
    }
   ],
   "source": [
    "# Printing the Total Number of Words in the Opinion Lexicon\n",
    "print('Total number of words in opinion lexicon', len(opinion_lexicon.words()))"
   ]
  },
  {
   "cell_type": "code",
   "execution_count": 7,
   "id": "d0b6d633",
   "metadata": {},
   "outputs": [
    {
     "name": "stdout",
     "output_type": "stream",
     "text": [
      "Examples of positive words in opinion lexicon ['a+', 'abound', 'abounds', 'abundance', 'abundant', 'accessable', 'accessible', 'acclaim', 'acclaimed', 'acclamation']\n"
     ]
    }
   ],
   "source": [
    "# Printing Examples of Positive Words in Opinion Lexicon\n",
    "print('Examples of positive words in opinion lexicon',opinion_lexicon.positive()[:10])"
   ]
  },
  {
   "cell_type": "code",
   "execution_count": 8,
   "id": "9f056edb",
   "metadata": {},
   "outputs": [
    {
     "name": "stdout",
     "output_type": "stream",
     "text": [
      "Examples of negative words in opinion lexicon ['2-faced', '2-faces', 'abnormal', 'abolish', 'abominable', 'abominably', 'abominate', 'abomination', 'abort', 'aborted']\n"
     ]
    }
   ],
   "source": [
    "# Printing Examples of Negative Words in Opinion Lexicon\n",
    "print('Examples of negative words in opinion lexicon',opinion_lexicon.negative()[:10])"
   ]
  },
  {
   "cell_type": "markdown",
   "id": "b0b02817",
   "metadata": {},
   "source": [
    "# Downloading NLTK Tokenization Resource"
   ]
  },
  {
   "cell_type": "code",
   "execution_count": 9,
   "id": "301af074",
   "metadata": {},
   "outputs": [
    {
     "name": "stderr",
     "output_type": "stream",
     "text": [
      "[nltk_data] Downloading package punkt to /Users/yathisha/nltk_data...\n",
      "[nltk_data]   Unzipping tokenizers/punkt.zip.\n"
     ]
    },
    {
     "data": {
      "text/plain": [
       "True"
      ]
     },
     "execution_count": 9,
     "metadata": {},
     "output_type": "execute_result"
    }
   ],
   "source": [
    "# Let's create a dictionary which we can use for scoring our review text\n",
    "nltk.download('punkt')"
   ]
  },
  {
   "cell_type": "markdown",
   "id": "20d39952",
   "metadata": {},
   "source": [
    "# Renaming Columns, Defining Positive and Negative Scores, Initializing Dictionary"
   ]
  },
  {
   "cell_type": "code",
   "execution_count": 10,
   "id": "b07e3beb",
   "metadata": {},
   "outputs": [],
   "source": [
    "# Renaming Columns in DataFrame\n",
    "df.rename(columns={\"reviewText\": \"text\"}, inplace=True)\n",
    "# Defining Positive and Negative Scores\n",
    "pos_score = 1\n",
    "neg_score = -1\n",
    "# Initializing an Empty Dictionary to Store Words and Their Scores\n",
    "word_dict = {}"
   ]
  },
  {
   "cell_type": "markdown",
   "id": "75f0a044",
   "metadata": {},
   "source": [
    "# Adding Positive and Negative Words to the Dictionary"
   ]
  },
  {
   "cell_type": "code",
   "execution_count": 11,
   "id": "d0bbcfd0",
   "metadata": {},
   "outputs": [],
   "source": [
    "# Adding the positive words to the dictionary\n",
    "for word in opinion_lexicon.positive():\n",
    "    word_dict[word] = pos_score"
   ]
  },
  {
   "cell_type": "code",
   "execution_count": 12,
   "id": "7732977f",
   "metadata": {},
   "outputs": [],
   "source": [
    "# Adding the negative words to the dictionary\n",
    "for word in opinion_lexicon.negative():\n",
    "    word_dict[word] = neg_score"
   ]
  },
  {
   "cell_type": "markdown",
   "id": "b8a0ff11",
   "metadata": {},
   "source": [
    "# Bing Liu Sentiment Score Calculation Function"
   ]
  },
  {
   "cell_type": "code",
   "execution_count": 13,
   "id": "61efde6b",
   "metadata": {},
   "outputs": [],
   "source": [
    "def bing_liu_score(text):\n",
    "    sentiment_score = 0  # Initializing sentiment score\n",
    "    bag_of_words = word_tokenize(text.lower())  # Tokenizing the text into words and converting to lowercase\n",
    "    for word in bag_of_words:\n",
    "        if word in word_dict:    # Checking if the word is in the word_dict\n",
    "            sentiment_score += word_dict[word]   # Adding the score of the word to the sentiment score\n",
    "    return sentiment_score   # Returning the calculated sentiment score"
   ]
  },
  {
   "cell_type": "markdown",
   "id": "8f73eef5",
   "metadata": {},
   "source": [
    "# Handling Missing Values in 'text' Column"
   ]
  },
  {
   "cell_type": "code",
   "execution_count": 14,
   "id": "13493969",
   "metadata": {},
   "outputs": [],
   "source": [
    "# Filling Missing Values in 'text' Column with 'no review'\n",
    "df['text'].fillna('no review', inplace=True)\n",
    "# Calculating Bing Liu Score for Each Text and Adding a New Column 'Bing_Liu_Score'\n",
    "df['Bing_Liu_Score'] = df['text'].apply(bing_liu_score)"
   ]
  },
  {
   "cell_type": "markdown",
   "id": "675a71b7",
   "metadata": {},
   "source": [
    "# Displaying Selected Columns for the First 10 Rows"
   ]
  },
  {
   "cell_type": "code",
   "execution_count": 16,
   "id": "c154a61d",
   "metadata": {},
   "outputs": [
    {
     "data": {
      "text/html": [
       "<div>\n",
       "<style scoped>\n",
       "    .dataframe tbody tr th:only-of-type {\n",
       "        vertical-align: middle;\n",
       "    }\n",
       "\n",
       "    .dataframe tbody tr th {\n",
       "        vertical-align: top;\n",
       "    }\n",
       "\n",
       "    .dataframe thead th {\n",
       "        text-align: right;\n",
       "    }\n",
       "</style>\n",
       "<table border=\"1\" class=\"dataframe\">\n",
       "  <thead>\n",
       "    <tr style=\"text-align: right;\">\n",
       "      <th></th>\n",
       "      <th>overall</th>\n",
       "      <th>text</th>\n",
       "      <th>Bing_Liu_Score</th>\n",
       "    </tr>\n",
       "  </thead>\n",
       "  <tbody>\n",
       "    <tr>\n",
       "      <th>0</th>\n",
       "      <td>4</td>\n",
       "      <td>Contains some interesting stitches.</td>\n",
       "      <td>1</td>\n",
       "    </tr>\n",
       "    <tr>\n",
       "      <th>1</th>\n",
       "      <td>5</td>\n",
       "      <td>I'm a fairly experienced knitter of the one-co...</td>\n",
       "      <td>22</td>\n",
       "    </tr>\n",
       "    <tr>\n",
       "      <th>2</th>\n",
       "      <td>4</td>\n",
       "      <td>Great book but the index is terrible. Had to w...</td>\n",
       "      <td>0</td>\n",
       "    </tr>\n",
       "    <tr>\n",
       "      <th>3</th>\n",
       "      <td>5</td>\n",
       "      <td>I purchased the Kindle edition which is incred...</td>\n",
       "      <td>4</td>\n",
       "    </tr>\n",
       "    <tr>\n",
       "      <th>4</th>\n",
       "      <td>5</td>\n",
       "      <td>Very well laid out and very easy to read.\\n\\nT...</td>\n",
       "      <td>5</td>\n",
       "    </tr>\n",
       "    <tr>\n",
       "      <th>5</th>\n",
       "      <td>5</td>\n",
       "      <td>Beginning her career as a freelance knitter, M...</td>\n",
       "      <td>15</td>\n",
       "    </tr>\n",
       "    <tr>\n",
       "      <th>6</th>\n",
       "      <td>5</td>\n",
       "      <td>This is a terrific stitch handbook (and I have...</td>\n",
       "      <td>9</td>\n",
       "    </tr>\n",
       "    <tr>\n",
       "      <th>7</th>\n",
       "      <td>4</td>\n",
       "      <td>The book needs to be coil bound. The content i...</td>\n",
       "      <td>1</td>\n",
       "    </tr>\n",
       "    <tr>\n",
       "      <th>8</th>\n",
       "      <td>5</td>\n",
       "      <td>I really am enjoying this book! I like the siz...</td>\n",
       "      <td>12</td>\n",
       "    </tr>\n",
       "    <tr>\n",
       "      <th>9</th>\n",
       "      <td>5</td>\n",
       "      <td>Just received this book and looked over it cov...</td>\n",
       "      <td>6</td>\n",
       "    </tr>\n",
       "  </tbody>\n",
       "</table>\n",
       "</div>"
      ],
      "text/plain": [
       "   overall                                               text  Bing_Liu_Score\n",
       "0        4                Contains some interesting stitches.               1\n",
       "1        5  I'm a fairly experienced knitter of the one-co...              22\n",
       "2        4  Great book but the index is terrible. Had to w...               0\n",
       "3        5  I purchased the Kindle edition which is incred...               4\n",
       "4        5  Very well laid out and very easy to read.\\n\\nT...               5\n",
       "5        5  Beginning her career as a freelance knitter, M...              15\n",
       "6        5  This is a terrific stitch handbook (and I have...               9\n",
       "7        4  The book needs to be coil bound. The content i...               1\n",
       "8        5  I really am enjoying this book! I like the siz...              12\n",
       "9        5  Just received this book and looked over it cov...               6"
      ]
     },
     "execution_count": 16,
     "metadata": {},
     "output_type": "execute_result"
    }
   ],
   "source": [
    "df[['overall',\"text\", 'Bing_Liu_Score']].head(10)   # Displaying Columns 'overall', 'text', and 'Bing_Liu_Score' for the First 10 Rows"
   ]
  },
  {
   "cell_type": "markdown",
   "id": "d45fceb5",
   "metadata": {},
   "source": [
    "# Grouping by 'overall' Rating and Calculating Mean Bing Liu Score"
   ]
  },
  {
   "cell_type": "code",
   "execution_count": 17,
   "id": "de3f7372",
   "metadata": {},
   "outputs": [
    {
     "data": {
      "text/html": [
       "<div>\n",
       "<style scoped>\n",
       "    .dataframe tbody tr th:only-of-type {\n",
       "        vertical-align: middle;\n",
       "    }\n",
       "\n",
       "    .dataframe tbody tr th {\n",
       "        vertical-align: top;\n",
       "    }\n",
       "\n",
       "    .dataframe thead th {\n",
       "        text-align: right;\n",
       "    }\n",
       "</style>\n",
       "<table border=\"1\" class=\"dataframe\">\n",
       "  <thead>\n",
       "    <tr style=\"text-align: right;\">\n",
       "      <th></th>\n",
       "      <th>Bing_Liu_Score</th>\n",
       "    </tr>\n",
       "    <tr>\n",
       "      <th>overall</th>\n",
       "      <th></th>\n",
       "    </tr>\n",
       "  </thead>\n",
       "  <tbody>\n",
       "    <tr>\n",
       "      <th>1</th>\n",
       "      <td>-0.255049</td>\n",
       "    </tr>\n",
       "    <tr>\n",
       "      <th>2</th>\n",
       "      <td>0.566098</td>\n",
       "    </tr>\n",
       "    <tr>\n",
       "      <th>3</th>\n",
       "      <td>1.158796</td>\n",
       "    </tr>\n",
       "    <tr>\n",
       "      <th>4</th>\n",
       "      <td>2.028146</td>\n",
       "    </tr>\n",
       "    <tr>\n",
       "      <th>5</th>\n",
       "      <td>2.130005</td>\n",
       "    </tr>\n",
       "  </tbody>\n",
       "</table>\n",
       "</div>"
      ],
      "text/plain": [
       "         Bing_Liu_Score\n",
       "overall                \n",
       "1             -0.255049\n",
       "2              0.566098\n",
       "3              1.158796\n",
       "4              2.028146\n",
       "5              2.130005"
      ]
     },
     "execution_count": 17,
     "metadata": {},
     "output_type": "execute_result"
    }
   ],
   "source": [
    "df.groupby('overall').agg({'Bing_Liu_Score':'mean'})  # Grouping DataFrame by 'overall' Rating and Calculating Mean Bing Liu Score"
   ]
  }
 ],
 "metadata": {
  "kernelspec": {
   "display_name": "Python 3 (ipykernel)",
   "language": "python",
   "name": "python3"
  },
  "language_info": {
   "codemirror_mode": {
    "name": "ipython",
    "version": 3
   },
   "file_extension": ".py",
   "mimetype": "text/x-python",
   "name": "python",
   "nbconvert_exporter": "python",
   "pygments_lexer": "ipython3",
   "version": "3.11.5"
  }
 },
 "nbformat": 4,
 "nbformat_minor": 5
}
